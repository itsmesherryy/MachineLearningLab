{
 "cells": [
  {
   "cell_type": "markdown",
   "id": "1b883199",
   "metadata": {},
   "source": [
    "### Shehryar Sohail, i200429 J"
   ]
  },
  {
   "cell_type": "markdown",
   "id": "0e043643",
   "metadata": {},
   "source": [
    "### ML LAB 6\n",
    "\n",
    "Use naïve bayes classifer on the Tennis play dataset, your code should ask the user to input\n",
    "some features and return the class of the input\n",
    "\n",
    "Use bayesian classification to detect the class of a test sentence. Once use naïve bayes to\n",
    "classify the test sentence and then remove the naïve assumption and classify the sentence."
   ]
  },
  {
   "cell_type": "markdown",
   "id": "631b4680",
   "metadata": {},
   "source": [
    "### ML LAB 7\n",
    "\n",
    "Use the sentences in the last lab to perform Naïve Bayes classification, however, this time your code\n",
    "should cater to the words not in the corpus."
   ]
  },
  {
   "cell_type": "code",
   "execution_count": 1,
   "id": "3b758bce",
   "metadata": {},
   "outputs": [],
   "source": [
    "import numpy as np\n",
    "import pandas as pd"
   ]
  },
  {
   "cell_type": "code",
   "execution_count": 2,
   "id": "2d321b42",
   "metadata": {},
   "outputs": [],
   "source": [
    "def clean(sent):\n",
    "    sent = sent.lower()\n",
    "    sent = sent.replace(',', '')\n",
    "    sent = sent.replace('.', '')\n",
    "    sent = sent.replace('\\'', '')\n",
    "    return sent"
   ]
  },
  {
   "cell_type": "code",
   "execution_count": 3,
   "id": "1a622aad",
   "metadata": {},
   "outputs": [],
   "source": [
    "def NBclassification(Positive, Negative, Test):\n",
    "    \n",
    "    posT = clean(' '.join(Positive))\n",
    "    negT = clean(' '.join(Negative))\n",
    "    unique = list(set((posT+' '+negT).split()))\n",
    "    \n",
    "    posDict = {}\n",
    "    for i in posT.split():\n",
    "        count = 0\n",
    "        for j in posT.split():\n",
    "            if i == j:\n",
    "                count += 1\n",
    "\n",
    "        posDict[i] = (count + 1)/(len(posT.split()) + len(unique))\n",
    "\n",
    "    negDict = {}\n",
    "    for i in negT.split():\n",
    "        count = 0\n",
    "        for j in negT.split():\n",
    "            if i == j:\n",
    "                count += 1\n",
    "\n",
    "        negDict[i] = (count + 1)/(len(negT.split()) + len(unique))\n",
    "        \n",
    "    probPos = len(Positive)/(len(Positive)+len(Negative))\n",
    "\n",
    "    for i in Test.split():\n",
    "        if i not in posDict:\n",
    "            posDict[i] = 1/(len(posT.split()) + len(unique))\n",
    "\n",
    "        probPos *= posDict[i]\n",
    "\n",
    "    probNeg = len(Negative)/(len(Positive)+len(Negative))\n",
    "\n",
    "    for i in Test.split():\n",
    "        if i not in negDict:\n",
    "            negDict[i] = 1/(len(negT.split()) + len(unique))\n",
    "\n",
    "        probNeg *= negDict[i]\n",
    "    \n",
    "    if probPos > probNeg:\n",
    "        label = '+'\n",
    "    else:\n",
    "        label = '-'\n",
    "        \n",
    "    return label, posDict, negDict"
   ]
  },
  {
   "cell_type": "code",
   "execution_count": 4,
   "id": "19e09f08",
   "metadata": {},
   "outputs": [],
   "source": [
    "# Training Set:\n",
    "    \n",
    "pos = ['I love mangoes.',\n",
    "       'Mangoes are a lot tastier than other fruits', \n",
    "       'I like mangoes because they are good,',\n",
    "       'Apples are good too but I prefer mangoes',\n",
    "       'People say mango is the king of fruit so that is why mangoes are good',\n",
    "       'Mangoes are good because they are juicy']\n",
    "\n",
    "neg = ['Eating too many mangoes can have a negative impact on your health',\n",
    "       'Mangoes are good but not too good, I like apples more than mangoes',\n",
    "       'I don’t like mangoes because they are expensive',\n",
    "       'Mangoes are not good.',\n",
    "       'I don’t like mangoes']\n",
    "\n",
    "# Testing Set:\n",
    "\n",
    "TestSentence = 'Mangoes are good'\n",
    "# TestSentence = 'mangoes are not good'"
   ]
  },
  {
   "cell_type": "code",
   "execution_count": 5,
   "id": "0e03f364",
   "metadata": {},
   "outputs": [
    {
     "name": "stdout",
     "output_type": "stream",
     "text": [
      "+\n"
     ]
    }
   ],
   "source": [
    "label, dp, dn = NBclassification(pos, neg, TestSentence)\n",
    "print(label)"
   ]
  }
 ],
 "metadata": {
  "kernelspec": {
   "display_name": "Python 3 (ipykernel)",
   "language": "python",
   "name": "python3"
  },
  "language_info": {
   "codemirror_mode": {
    "name": "ipython",
    "version": 3
   },
   "file_extension": ".py",
   "mimetype": "text/x-python",
   "name": "python",
   "nbconvert_exporter": "python",
   "pygments_lexer": "ipython3",
   "version": "3.10.6"
  }
 },
 "nbformat": 4,
 "nbformat_minor": 5
}
