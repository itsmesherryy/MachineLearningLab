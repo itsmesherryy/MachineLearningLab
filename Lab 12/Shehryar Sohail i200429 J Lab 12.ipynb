{
 "cells": [
  {
   "cell_type": "markdown",
   "id": "f76a1862",
   "metadata": {},
   "source": [
    "### MACHINE LEARNING\n",
    "#### LAB 12\n",
    "##### LINEAR REGRESSION\n",
    "---\n",
    "\n",
    "*Shehryar Sohail, i200429 J*"
   ]
  },
  {
   "cell_type": "code",
   "execution_count": 1,
   "id": "ae5c022f",
   "metadata": {},
   "outputs": [],
   "source": [
    "import numpy as np\n",
    "import pandas as pd\n",
    "from sklearn import preprocessing"
   ]
  },
  {
   "cell_type": "markdown",
   "id": "b680494f",
   "metadata": {},
   "source": [
    "**1. For the given dataset implement gradient descent from scratch and find the linear relationship between features and output**"
   ]
  },
  {
   "cell_type": "code",
   "execution_count": 2,
   "id": "89b7d991",
   "metadata": {},
   "outputs": [
    {
     "data": {
      "text/html": [
       "<div>\n",
       "<style scoped>\n",
       "    .dataframe tbody tr th:only-of-type {\n",
       "        vertical-align: middle;\n",
       "    }\n",
       "\n",
       "    .dataframe tbody tr th {\n",
       "        vertical-align: top;\n",
       "    }\n",
       "\n",
       "    .dataframe thead th {\n",
       "        text-align: right;\n",
       "    }\n",
       "</style>\n",
       "<table border=\"1\" class=\"dataframe\">\n",
       "  <thead>\n",
       "    <tr style=\"text-align: right;\">\n",
       "      <th></th>\n",
       "      <th>TV</th>\n",
       "      <th>radio</th>\n",
       "      <th>newspaper</th>\n",
       "      <th>sales</th>\n",
       "    </tr>\n",
       "  </thead>\n",
       "  <tbody>\n",
       "    <tr>\n",
       "      <th>1</th>\n",
       "      <td>230.1</td>\n",
       "      <td>37.8</td>\n",
       "      <td>69.2</td>\n",
       "      <td>22.1</td>\n",
       "    </tr>\n",
       "    <tr>\n",
       "      <th>2</th>\n",
       "      <td>44.5</td>\n",
       "      <td>39.3</td>\n",
       "      <td>45.1</td>\n",
       "      <td>10.4</td>\n",
       "    </tr>\n",
       "    <tr>\n",
       "      <th>3</th>\n",
       "      <td>17.2</td>\n",
       "      <td>45.9</td>\n",
       "      <td>69.3</td>\n",
       "      <td>9.3</td>\n",
       "    </tr>\n",
       "    <tr>\n",
       "      <th>4</th>\n",
       "      <td>151.5</td>\n",
       "      <td>41.3</td>\n",
       "      <td>58.5</td>\n",
       "      <td>18.5</td>\n",
       "    </tr>\n",
       "    <tr>\n",
       "      <th>5</th>\n",
       "      <td>180.8</td>\n",
       "      <td>10.8</td>\n",
       "      <td>58.4</td>\n",
       "      <td>12.9</td>\n",
       "    </tr>\n",
       "    <tr>\n",
       "      <th>...</th>\n",
       "      <td>...</td>\n",
       "      <td>...</td>\n",
       "      <td>...</td>\n",
       "      <td>...</td>\n",
       "    </tr>\n",
       "    <tr>\n",
       "      <th>196</th>\n",
       "      <td>38.2</td>\n",
       "      <td>3.7</td>\n",
       "      <td>13.8</td>\n",
       "      <td>7.6</td>\n",
       "    </tr>\n",
       "    <tr>\n",
       "      <th>197</th>\n",
       "      <td>94.2</td>\n",
       "      <td>4.9</td>\n",
       "      <td>8.1</td>\n",
       "      <td>9.7</td>\n",
       "    </tr>\n",
       "    <tr>\n",
       "      <th>198</th>\n",
       "      <td>177.0</td>\n",
       "      <td>9.3</td>\n",
       "      <td>6.4</td>\n",
       "      <td>12.8</td>\n",
       "    </tr>\n",
       "    <tr>\n",
       "      <th>199</th>\n",
       "      <td>283.6</td>\n",
       "      <td>42.0</td>\n",
       "      <td>66.2</td>\n",
       "      <td>25.5</td>\n",
       "    </tr>\n",
       "    <tr>\n",
       "      <th>200</th>\n",
       "      <td>232.1</td>\n",
       "      <td>8.6</td>\n",
       "      <td>8.7</td>\n",
       "      <td>13.4</td>\n",
       "    </tr>\n",
       "  </tbody>\n",
       "</table>\n",
       "<p>200 rows × 4 columns</p>\n",
       "</div>"
      ],
      "text/plain": [
       "        TV  radio  newspaper  sales\n",
       "1    230.1   37.8       69.2   22.1\n",
       "2     44.5   39.3       45.1   10.4\n",
       "3     17.2   45.9       69.3    9.3\n",
       "4    151.5   41.3       58.5   18.5\n",
       "5    180.8   10.8       58.4   12.9\n",
       "..     ...    ...        ...    ...\n",
       "196   38.2    3.7       13.8    7.6\n",
       "197   94.2    4.9        8.1    9.7\n",
       "198  177.0    9.3        6.4   12.8\n",
       "199  283.6   42.0       66.2   25.5\n",
       "200  232.1    8.6        8.7   13.4\n",
       "\n",
       "[200 rows x 4 columns]"
      ]
     },
     "execution_count": 2,
     "metadata": {},
     "output_type": "execute_result"
    }
   ],
   "source": [
    "df = pd.read_csv('Advertising.csv', index_col = 0)\n",
    "df"
   ]
  },
  {
   "cell_type": "code",
   "execution_count": 3,
   "id": "26a4198f",
   "metadata": {},
   "outputs": [],
   "source": [
    "X = np.array(df[['TV', 'radio', 'newspaper']])\n",
    "X = np.append(X, np.ones((X.shape[0], 1)), axis=1)\n",
    "X = preprocessing.normalize(X)\n",
    "Y = np.array(df.sales)"
   ]
  },
  {
   "cell_type": "code",
   "execution_count": 4,
   "id": "1b314b5a",
   "metadata": {},
   "outputs": [
    {
     "data": {
      "text/plain": [
       "array([0.95909091, 0.70501455, 0.81144959, 0.25768185])"
      ]
     },
     "execution_count": 4,
     "metadata": {},
     "output_type": "execute_result"
    }
   ],
   "source": [
    "thetas=np.random.rand(X.shape[1])\n",
    "thetas"
   ]
  },
  {
   "cell_type": "code",
   "execution_count": 5,
   "id": "3e3930b3",
   "metadata": {},
   "outputs": [],
   "source": [
    "def hypothesis(X1,thetas1):\n",
    "    return np.dot(X1,thetas1)\n",
    "\n",
    "def loss_fun(y_act,y_pred):\n",
    "    return np.mean((y_act-y_pred)**2)\n",
    "\n",
    "def gradient_descent(alpha,thetas2,g_thetas):\n",
    "    return (thetas2-alpha*g_thetas)\n",
    "\n",
    "def der_loss_fun(x,y,thetas3):\n",
    "    return -2*np.dot((y-hypothesis(x,thetas3)).T,X)/float(x.shape[0])"
   ]
  },
  {
   "cell_type": "code",
   "execution_count": 6,
   "id": "04592aab",
   "metadata": {},
   "outputs": [
    {
     "name": "stdout",
     "output_type": "stream",
     "text": [
      "Relationship among features is represented by thetas: [15.18847821  4.01528987  0.15943831 -0.46254609]\n"
     ]
    }
   ],
   "source": [
    "g_t=der_loss_fun(X,Y,thetas)\n",
    "n_t=gradient_descent(0.1,thetas,g_t)\n",
    "\n",
    "for x in range(200):\n",
    "    g_t=der_loss_fun(X,Y,n_t)\n",
    "    n_t=gradient_descent(0.1,n_t,g_t)\n",
    "    h1=hypothesis(X,n_t)\n",
    "\n",
    "print('Relationship among features is represented by thetas:', n_t)"
   ]
  },
  {
   "cell_type": "markdown",
   "id": "d4a1cef8",
   "metadata": {},
   "source": [
    "**2. Write a code that finds out the relationship between two linear arrays eg.**\n",
    "\n",
    "        Input array x=[1,2,3,4,5,…]\n",
    "        Output array y=[3,5,7,9,11,…]\n",
    "        The code should work for any given input/output, use gradient descent."
   ]
  },
  {
   "cell_type": "code",
   "execution_count": 7,
   "id": "9b49b013",
   "metadata": {},
   "outputs": [],
   "source": [
    "X = np.arange(1, 101)\n",
    "X = np.array([X, np.ones(X.shape[0], dtype = 'int')]).T\n",
    "X = preprocessing.normalize(X)\n",
    "Y = np.arange(3, 101*2, 2)"
   ]
  },
  {
   "cell_type": "code",
   "execution_count": 8,
   "id": "a22f5ace",
   "metadata": {},
   "outputs": [
    {
     "data": {
      "text/plain": [
       "array([0.59931753, 0.49069245])"
      ]
     },
     "execution_count": 8,
     "metadata": {},
     "output_type": "execute_result"
    }
   ],
   "source": [
    "thetas = np.random.rand(2)\n",
    "thetas"
   ]
  },
  {
   "cell_type": "code",
   "execution_count": 9,
   "id": "fd4e7ebe",
   "metadata": {},
   "outputs": [
    {
     "name": "stdout",
     "output_type": "stream",
     "text": [
      "Relationship among two linear arrays is represented by thetas: [ 114.37736558 -248.7266324 ]\n"
     ]
    }
   ],
   "source": [
    "g_t=der_loss_fun(X,Y,thetas)\n",
    "n_t=gradient_descent(0.1,thetas,g_t)\n",
    "\n",
    "for x in range(1000):\n",
    "    g_t=der_loss_fun(X,Y,n_t)\n",
    "    n_t=gradient_descent(0.1,n_t,g_t)\n",
    "    h1=hypothesis(X,n_t)\n",
    "\n",
    "print('Relationship among two linear arrays is represented by thetas:', n_t)"
   ]
  },
  {
   "cell_type": "markdown",
   "id": "fa65699f",
   "metadata": {},
   "source": [
    "**3. Is linear regression good for classification? If yes, then why, and if no, then why?**\n",
    "\n",
    "Yes it is good as it will work as a decision tree, splitting data into the number of classes along a liner line. This concept is similar to non-axis alligned decision tree"
   ]
  },
  {
   "cell_type": "markdown",
   "id": "373b4541",
   "metadata": {},
   "source": [
    "**4. Why do we use mse (mean squared error) over squared error? What is the benefit of mse?**\n",
    "\n",
    "So that we can calculate the loss/error due to our line and we can use it for further processing"
   ]
  },
  {
   "cell_type": "markdown",
   "id": "767a28be",
   "metadata": {},
   "source": [
    "**5. Can you find a better estimator than mse?**\n",
    "\n",
    "Mean absolute error exists but it is impossible to take the derivate of it so we use MSE rather than MAE"
   ]
  }
 ],
 "metadata": {
  "kernelspec": {
   "display_name": "Python 3 (ipykernel)",
   "language": "python",
   "name": "python3"
  },
  "language_info": {
   "codemirror_mode": {
    "name": "ipython",
    "version": 3
   },
   "file_extension": ".py",
   "mimetype": "text/x-python",
   "name": "python",
   "nbconvert_exporter": "python",
   "pygments_lexer": "ipython3",
   "version": "3.10.6"
  }
 },
 "nbformat": 4,
 "nbformat_minor": 5
}
