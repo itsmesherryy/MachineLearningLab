{
 "cells": [
  {
   "cell_type": "code",
   "execution_count": 66,
   "id": "3dd3a5c4",
   "metadata": {},
   "outputs": [],
   "source": [
    "import pandas as pd\n",
    "import numpy as np"
   ]
  },
  {
   "cell_type": "code",
   "execution_count": 67,
   "id": "a7093846",
   "metadata": {},
   "outputs": [
    {
     "data": {
      "text/html": [
       "<div>\n",
       "<style scoped>\n",
       "    .dataframe tbody tr th:only-of-type {\n",
       "        vertical-align: middle;\n",
       "    }\n",
       "\n",
       "    .dataframe tbody tr th {\n",
       "        vertical-align: top;\n",
       "    }\n",
       "\n",
       "    .dataframe thead th {\n",
       "        text-align: right;\n",
       "    }\n",
       "</style>\n",
       "<table border=\"1\" class=\"dataframe\">\n",
       "  <thead>\n",
       "    <tr style=\"text-align: right;\">\n",
       "      <th></th>\n",
       "      <th>day</th>\n",
       "      <th>outlook</th>\n",
       "      <th>temp</th>\n",
       "      <th>humidity</th>\n",
       "      <th>wind</th>\n",
       "      <th>play</th>\n",
       "    </tr>\n",
       "  </thead>\n",
       "  <tbody>\n",
       "    <tr>\n",
       "      <th>0</th>\n",
       "      <td>D1</td>\n",
       "      <td>Sunny</td>\n",
       "      <td>Hot</td>\n",
       "      <td>High</td>\n",
       "      <td>Weak</td>\n",
       "      <td>No</td>\n",
       "    </tr>\n",
       "    <tr>\n",
       "      <th>1</th>\n",
       "      <td>D2</td>\n",
       "      <td>Sunny</td>\n",
       "      <td>Hot</td>\n",
       "      <td>High</td>\n",
       "      <td>Strong</td>\n",
       "      <td>No</td>\n",
       "    </tr>\n",
       "    <tr>\n",
       "      <th>2</th>\n",
       "      <td>D3</td>\n",
       "      <td>Overcast</td>\n",
       "      <td>Hot</td>\n",
       "      <td>High</td>\n",
       "      <td>Weak</td>\n",
       "      <td>Yes</td>\n",
       "    </tr>\n",
       "    <tr>\n",
       "      <th>3</th>\n",
       "      <td>D4</td>\n",
       "      <td>Rain</td>\n",
       "      <td>Mild</td>\n",
       "      <td>High</td>\n",
       "      <td>Weak</td>\n",
       "      <td>Yes</td>\n",
       "    </tr>\n",
       "    <tr>\n",
       "      <th>4</th>\n",
       "      <td>D5</td>\n",
       "      <td>Rain</td>\n",
       "      <td>Cool</td>\n",
       "      <td>Normal</td>\n",
       "      <td>Weak</td>\n",
       "      <td>Yes</td>\n",
       "    </tr>\n",
       "    <tr>\n",
       "      <th>5</th>\n",
       "      <td>D6</td>\n",
       "      <td>Rain</td>\n",
       "      <td>Cool</td>\n",
       "      <td>Normal</td>\n",
       "      <td>Strong</td>\n",
       "      <td>No</td>\n",
       "    </tr>\n",
       "    <tr>\n",
       "      <th>6</th>\n",
       "      <td>D7</td>\n",
       "      <td>Overcast</td>\n",
       "      <td>Cool</td>\n",
       "      <td>Normal</td>\n",
       "      <td>Strong</td>\n",
       "      <td>Yes</td>\n",
       "    </tr>\n",
       "    <tr>\n",
       "      <th>7</th>\n",
       "      <td>D8</td>\n",
       "      <td>Sunny</td>\n",
       "      <td>Mild</td>\n",
       "      <td>High</td>\n",
       "      <td>Weak</td>\n",
       "      <td>No</td>\n",
       "    </tr>\n",
       "    <tr>\n",
       "      <th>8</th>\n",
       "      <td>D9</td>\n",
       "      <td>Sunny</td>\n",
       "      <td>Cool</td>\n",
       "      <td>Normal</td>\n",
       "      <td>Weak</td>\n",
       "      <td>Yes</td>\n",
       "    </tr>\n",
       "    <tr>\n",
       "      <th>9</th>\n",
       "      <td>D10</td>\n",
       "      <td>Rain</td>\n",
       "      <td>Mild</td>\n",
       "      <td>Normal</td>\n",
       "      <td>Weak</td>\n",
       "      <td>Yes</td>\n",
       "    </tr>\n",
       "    <tr>\n",
       "      <th>10</th>\n",
       "      <td>D11</td>\n",
       "      <td>Sunny</td>\n",
       "      <td>Mild</td>\n",
       "      <td>Normal</td>\n",
       "      <td>Strong</td>\n",
       "      <td>Yes</td>\n",
       "    </tr>\n",
       "    <tr>\n",
       "      <th>11</th>\n",
       "      <td>D12</td>\n",
       "      <td>Overcast</td>\n",
       "      <td>Mild</td>\n",
       "      <td>High</td>\n",
       "      <td>Strong</td>\n",
       "      <td>Yes</td>\n",
       "    </tr>\n",
       "    <tr>\n",
       "      <th>12</th>\n",
       "      <td>D13</td>\n",
       "      <td>Overcast</td>\n",
       "      <td>Hot</td>\n",
       "      <td>Normal</td>\n",
       "      <td>Weak</td>\n",
       "      <td>Yes</td>\n",
       "    </tr>\n",
       "    <tr>\n",
       "      <th>13</th>\n",
       "      <td>D14</td>\n",
       "      <td>Rain</td>\n",
       "      <td>Mild</td>\n",
       "      <td>High</td>\n",
       "      <td>Strong</td>\n",
       "      <td>No</td>\n",
       "    </tr>\n",
       "  </tbody>\n",
       "</table>\n",
       "</div>"
      ],
      "text/plain": [
       "    day   outlook  temp humidity    wind play\n",
       "0    D1     Sunny   Hot     High    Weak   No\n",
       "1    D2     Sunny   Hot     High  Strong   No\n",
       "2    D3  Overcast   Hot     High    Weak  Yes\n",
       "3    D4      Rain  Mild     High    Weak  Yes\n",
       "4    D5      Rain  Cool   Normal    Weak  Yes\n",
       "5    D6      Rain  Cool   Normal  Strong   No\n",
       "6    D7  Overcast  Cool   Normal  Strong  Yes\n",
       "7    D8     Sunny  Mild     High    Weak   No\n",
       "8    D9     Sunny  Cool   Normal    Weak  Yes\n",
       "9   D10      Rain  Mild   Normal    Weak  Yes\n",
       "10  D11     Sunny  Mild   Normal  Strong  Yes\n",
       "11  D12  Overcast  Mild     High  Strong  Yes\n",
       "12  D13  Overcast   Hot   Normal    Weak  Yes\n",
       "13  D14      Rain  Mild     High  Strong   No"
      ]
     },
     "execution_count": 67,
     "metadata": {},
     "output_type": "execute_result"
    }
   ],
   "source": [
    "df = pd.read_csv('play_tennis.csv')\n",
    "df"
   ]
  },
  {
   "cell_type": "markdown",
   "id": "dc91bdbd",
   "metadata": {},
   "source": [
    "### Question 1\n",
    "\n",
    "Use naïve bayes classifer on the Tennis play dataset, your code should ask the user to input\n",
    "some features and return the class of the input"
   ]
  },
  {
   "cell_type": "code",
   "execution_count": 68,
   "id": "85ef3c5e",
   "metadata": {},
   "outputs": [],
   "source": [
    "# Sunny, Hot, High, Strong, No\n",
    "# Overcast, Mild, High, Strong, Yes\n",
    "\n",
    "# outlook = input('Enter outlook: ')\n",
    "# temp = input('Enter temp: ')\n",
    "# humidity = input('Enter humidity: ')\n",
    "# wind = input('Enter wind: ')\n",
    "\n",
    "outlook = 'Sunny'\n",
    "temp = 'Hot'\n",
    "humidity = 'High'\n",
    "wind = 'Strong'"
   ]
  },
  {
   "cell_type": "code",
   "execution_count": 69,
   "id": "1d2fc345",
   "metadata": {},
   "outputs": [
    {
     "name": "stdout",
     "output_type": "stream",
     "text": [
      "No\n"
     ]
    }
   ],
   "source": [
    "def predict(df, outcome):\n",
    "    \n",
    "    a = len(df[df['play'] == outcome])/len(df)\n",
    "    b = df[df['outlook'] == outlook]\n",
    "    b = len(b[b['play'] == outcome])/len(b)\n",
    "    c = df[df['temp'] == temp]\n",
    "    c = len(c[c['play'] == outcome])/len(c)\n",
    "    d = df[df['humidity'] == humidity]\n",
    "    d = len(d[d['play'] == outcome])/len(d)\n",
    "    e = df[df['wind'] == wind]\n",
    "    e = len(e[e['play'] == outcome])/len(e)\n",
    "    \n",
    "    return a*b*c*d*e\n",
    "\n",
    "probYes = predict(df, 'Yes')\n",
    "probNo = predict(df, 'No')\n",
    "\n",
    "if probNo > probYes:\n",
    "    print('No')\n",
    "else:\n",
    "    print('Yes')"
   ]
  },
  {
   "cell_type": "markdown",
   "id": "990882af",
   "metadata": {},
   "source": [
    "### Question 2\n",
    "\n",
    "Use bayesian classification to detect the class of a test sentence. Once use naïve bayes to\n",
    "classify the test sentence and then remove the naïve assumption and classify the sentence."
   ]
  },
  {
   "cell_type": "code",
   "execution_count": 70,
   "id": "884986a9",
   "metadata": {},
   "outputs": [],
   "source": [
    "plus = ['I love mangoes',\n",
    "        'Mangoes are a lot tastier than other fruits',\n",
    "        'I like mangoes because they are good,',\n",
    "        'Apples are good too but I prefer mangoes',\n",
    "        'People say mango is the king of fruit so that is why mangoes are good',\n",
    "        'Mangoes are good because they are juicy']\n",
    "\n",
    "minus = ['Eating too many mangoes can have a negative impact on your health',\n",
    "         'Mangoes are good but not too good, I like apples more than mangoes',\n",
    "         'I don’t like mangoes because they are expensive',\n",
    "         'Mangoes are not good.',\n",
    "         'I don’t like mangoes']\n",
    "\n",
    "\n",
    "# plus = 'I love mangoes. Mangoes are a lot tastier than other fruits. I like mangoes because they are good, Apples are good too but I prefer mangoes People say mango is the king of fruit so that is why mangoes are good Mangoes are good because they are juicy'\n",
    "# minus = 'Eating too many mangoes can have a negative impact on your health Mangoes are good but not too good, I like apples more than mangoes I don’t like mangoes because they are expensive Mangoes are not good. I don’t like mangoes'\n",
    "\n",
    "sent = ['Mangoes are good']"
   ]
  },
  {
   "cell_type": "code",
   "execution_count": 71,
   "id": "7f7e47f1",
   "metadata": {},
   "outputs": [],
   "source": [
    "def clean(sentence):\n",
    "\n",
    "    for i, j in enumerate(sentence):    \n",
    "        sentence[i] = sentence[i].lower()\n",
    "        sentence[i] = sentence[i].replace(',', '')\n",
    "        sentence[i] = sentence[i].replace('.', '')\n",
    "        sentence[i] = sentence[i].replace('\\'', '')\n",
    "        \n",
    "    return sentence\n"
   ]
  },
  {
   "cell_type": "code",
   "execution_count": 72,
   "id": "bcc186f9",
   "metadata": {},
   "outputs": [],
   "source": [
    "plus = clean(plus)\n",
    "minus = clean(minus)\n",
    "sent = clean(sent)"
   ]
  },
  {
   "cell_type": "code",
   "execution_count": 73,
   "id": "cf99ee8b",
   "metadata": {},
   "outputs": [],
   "source": [
    "probPlus = len(plus)/(len(plus) + len(minus))\n",
    "probMinus = len(minus)/(len(plus) + len(minus))"
   ]
  },
  {
   "cell_type": "code",
   "execution_count": 74,
   "id": "6ce9d1cd",
   "metadata": {},
   "outputs": [
    {
     "data": {
      "text/plain": [
       "(0.5454545454545454, 0.45454545454545453)"
      ]
     },
     "execution_count": 74,
     "metadata": {},
     "output_type": "execute_result"
    }
   ],
   "source": [
    "probPlus, probMinus"
   ]
  }
 ],
 "metadata": {
  "kernelspec": {
   "display_name": "Python 3 (ipykernel)",
   "language": "python",
   "name": "python3"
  },
  "language_info": {
   "codemirror_mode": {
    "name": "ipython",
    "version": 3
   },
   "file_extension": ".py",
   "mimetype": "text/x-python",
   "name": "python",
   "nbconvert_exporter": "python",
   "pygments_lexer": "ipython3",
   "version": "3.10.6"
  }
 },
 "nbformat": 4,
 "nbformat_minor": 5
}
