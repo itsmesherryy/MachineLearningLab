{
 "cells": [
  {
   "cell_type": "markdown",
   "metadata": {},
   "source": [
    "## Lab 11\n",
    "---\n",
    "**Shehryar Sohail, i200429 J**"
   ]
  },
  {
   "cell_type": "markdown",
   "metadata": {},
   "source": [
    "### Numpy Exercise\n",
    "In this exercise, we will be working with a dataset with the information of baseball players. Here is the code to read the dataset and convert it into lists."
   ]
  },
  {
   "cell_type": "code",
   "execution_count": 1,
   "metadata": {},
   "outputs": [
    {
     "name": "stdout",
     "output_type": "stream",
     "text": [
      "%pylab is deprecated, use %matplotlib inline and import the required libraries.\n",
      "Populating the interactive namespace from numpy and matplotlib\n"
     ]
    }
   ],
   "source": [
    "%pylab inline"
   ]
  },
  {
   "cell_type": "code",
   "execution_count": 2,
   "metadata": {},
   "outputs": [],
   "source": [
    "import pandas as pd"
   ]
  },
  {
   "cell_type": "code",
   "execution_count": 3,
   "metadata": {},
   "outputs": [],
   "source": [
    "bbdata=pd.read_csv('./baseball.csv')\n",
    "\n",
    "height=list(bbdata['height'])\n",
    "weight=list(bbdata['weights'])"
   ]
  },
  {
   "cell_type": "code",
   "execution_count": 4,
   "metadata": {},
   "outputs": [
    {
     "data": {
      "text/html": [
       "<div>\n",
       "<style scoped>\n",
       "    .dataframe tbody tr th:only-of-type {\n",
       "        vertical-align: middle;\n",
       "    }\n",
       "\n",
       "    .dataframe tbody tr th {\n",
       "        vertical-align: top;\n",
       "    }\n",
       "\n",
       "    .dataframe thead th {\n",
       "        text-align: right;\n",
       "    }\n",
       "</style>\n",
       "<table border=\"1\" class=\"dataframe\">\n",
       "  <thead>\n",
       "    <tr style=\"text-align: right;\">\n",
       "      <th></th>\n",
       "      <th>Name</th>\n",
       "      <th>Team</th>\n",
       "      <th>Position</th>\n",
       "      <th>height</th>\n",
       "      <th>weights</th>\n",
       "      <th>Age</th>\n",
       "    </tr>\n",
       "  </thead>\n",
       "  <tbody>\n",
       "    <tr>\n",
       "      <th>0</th>\n",
       "      <td>Adam_Donachie</td>\n",
       "      <td>BAL</td>\n",
       "      <td>Catcher</td>\n",
       "      <td>74</td>\n",
       "      <td>180.0</td>\n",
       "      <td>22.99</td>\n",
       "    </tr>\n",
       "    <tr>\n",
       "      <th>1</th>\n",
       "      <td>Paul_Bako</td>\n",
       "      <td>BAL</td>\n",
       "      <td>Catcher</td>\n",
       "      <td>74</td>\n",
       "      <td>215.0</td>\n",
       "      <td>34.69</td>\n",
       "    </tr>\n",
       "    <tr>\n",
       "      <th>2</th>\n",
       "      <td>Ramon_Hernandez</td>\n",
       "      <td>BAL</td>\n",
       "      <td>Catcher</td>\n",
       "      <td>72</td>\n",
       "      <td>210.0</td>\n",
       "      <td>30.78</td>\n",
       "    </tr>\n",
       "    <tr>\n",
       "      <th>3</th>\n",
       "      <td>Kevin_Millar</td>\n",
       "      <td>BAL</td>\n",
       "      <td>First_Baseman</td>\n",
       "      <td>72</td>\n",
       "      <td>210.0</td>\n",
       "      <td>35.43</td>\n",
       "    </tr>\n",
       "    <tr>\n",
       "      <th>4</th>\n",
       "      <td>Chris_Gomez</td>\n",
       "      <td>BAL</td>\n",
       "      <td>First_Baseman</td>\n",
       "      <td>73</td>\n",
       "      <td>188.0</td>\n",
       "      <td>35.71</td>\n",
       "    </tr>\n",
       "    <tr>\n",
       "      <th>...</th>\n",
       "      <td>...</td>\n",
       "      <td>...</td>\n",
       "      <td>...</td>\n",
       "      <td>...</td>\n",
       "      <td>...</td>\n",
       "      <td>...</td>\n",
       "    </tr>\n",
       "    <tr>\n",
       "      <th>1029</th>\n",
       "      <td>Brad_Thompson</td>\n",
       "      <td>STL</td>\n",
       "      <td>Relief_Pitcher</td>\n",
       "      <td>73</td>\n",
       "      <td>190.0</td>\n",
       "      <td>25.08</td>\n",
       "    </tr>\n",
       "    <tr>\n",
       "      <th>1030</th>\n",
       "      <td>Tyler_Johnson</td>\n",
       "      <td>STL</td>\n",
       "      <td>Relief_Pitcher</td>\n",
       "      <td>74</td>\n",
       "      <td>180.0</td>\n",
       "      <td>25.73</td>\n",
       "    </tr>\n",
       "    <tr>\n",
       "      <th>1031</th>\n",
       "      <td>Chris_Narveson</td>\n",
       "      <td>STL</td>\n",
       "      <td>Relief_Pitcher</td>\n",
       "      <td>75</td>\n",
       "      <td>205.0</td>\n",
       "      <td>25.19</td>\n",
       "    </tr>\n",
       "    <tr>\n",
       "      <th>1032</th>\n",
       "      <td>Randy_Keisler</td>\n",
       "      <td>STL</td>\n",
       "      <td>Relief_Pitcher</td>\n",
       "      <td>75</td>\n",
       "      <td>190.0</td>\n",
       "      <td>31.01</td>\n",
       "    </tr>\n",
       "    <tr>\n",
       "      <th>1033</th>\n",
       "      <td>Josh_Kinney</td>\n",
       "      <td>STL</td>\n",
       "      <td>Relief_Pitcher</td>\n",
       "      <td>73</td>\n",
       "      <td>195.0</td>\n",
       "      <td>27.92</td>\n",
       "    </tr>\n",
       "  </tbody>\n",
       "</table>\n",
       "<p>1034 rows × 6 columns</p>\n",
       "</div>"
      ],
      "text/plain": [
       "                Name  Team        Position   height  weights   Age \n",
       "0       Adam_Donachie   BAL         Catcher      74    180.0  22.99\n",
       "1           Paul_Bako   BAL         Catcher      74    215.0  34.69\n",
       "2     Ramon_Hernandez   BAL         Catcher      72    210.0  30.78\n",
       "3        Kevin_Millar   BAL   First_Baseman      72    210.0  35.43\n",
       "4         Chris_Gomez   BAL   First_Baseman      73    188.0  35.71\n",
       "...               ...   ...             ...     ...      ...    ...\n",
       "1029    Brad_Thompson   STL  Relief_Pitcher      73    190.0  25.08\n",
       "1030    Tyler_Johnson   STL  Relief_Pitcher      74    180.0  25.73\n",
       "1031   Chris_Narveson   STL  Relief_Pitcher      75    205.0  25.19\n",
       "1032    Randy_Keisler   STL  Relief_Pitcher      75    190.0  31.01\n",
       "1033      Josh_Kinney   STL  Relief_Pitcher      73    195.0  27.92\n",
       "\n",
       "[1034 rows x 6 columns]"
      ]
     },
     "execution_count": 4,
     "metadata": {},
     "output_type": "execute_result"
    }
   ],
   "source": [
    "bbdata"
   ]
  },
  {
   "cell_type": "code",
   "execution_count": 5,
   "metadata": {},
   "outputs": [
    {
     "data": {
      "text/plain": [
       "<matplotlib.collections.PathCollection at 0x12116a830>"
      ]
     },
     "execution_count": 5,
     "metadata": {},
     "output_type": "execute_result"
    },
    {
     "data": {
      "image/png": "[encoded data removed]",
      "text/plain": [
       "<Figure size 640x480 with 1 Axes>"
      ]
     },
     "metadata": {},
     "output_type": "display_data"
    }
   ],
   "source": [
    "plt.scatter(height,weight)"
   ]
  },
  {
   "cell_type": "markdown",
   "metadata": {},
   "source": [
    "### Real Work begins\n",
    "We have height and weidths as lists now, you task is to convert them into numpy arrays and then acheive the following insights.\n",
    "The units are height in inches, weight in Kgs"
   ]
  },
  {
   "cell_type": "code",
   "execution_count": 6,
   "metadata": {},
   "outputs": [
    {
     "name": "stdout",
     "output_type": "stream",
     "text": [
      "np_height: [74 74 72 ... 75 75 73]\n",
      "np_weight_kg: [180. 215. 210. ... 205. 190. 195.]\n"
     ]
    }
   ],
   "source": [
    "# height is available as a regular list\n",
    "\n",
    "# Import numpy\n",
    "import numpy as np\n",
    "\n",
    "# Create a Numpy array from height: np_height\n",
    "np_height = np.array(height)\n",
    "\n",
    "\n",
    "# Print out np_height\n",
    "print('np_height:', np_height)\n",
    "\n",
    "\n",
    "# Create array from weight with correct units: np_weight_kg \n",
    "np_weight_kg = np.array(weight)\n",
    "\n",
    "\n",
    "# print the array np_weight_kg\n",
    "print('np_weight_kg:', np_weight_kg)"
   ]
  },
  {
   "cell_type": "markdown",
   "metadata": {},
   "source": [
    "* 1 meter = 39.3701 inches"
   ]
  },
  {
   "cell_type": "code",
   "execution_count": 7,
   "metadata": {},
   "outputs": [
    {
     "name": "stdout",
     "output_type": "stream",
     "text": [
      "np_height_m: [1.87959899 1.87959899 1.82879901 ... 1.90499897 1.90499897 1.854199  ]\n"
     ]
    }
   ],
   "source": [
    "# Convert np_height to meters: np_height_m\n",
    "np_height_m = np.divide(np_height, 39.3701)\n",
    "\n",
    "# Print np_height_m\n",
    "print('np_height_m:', np_height_m)"
   ]
  },
  {
   "cell_type": "markdown",
   "metadata": {},
   "source": [
    "- BMI=weight(kg)/(height (in m)**2)"
   ]
  },
  {
   "cell_type": "code",
   "execution_count": 8,
   "metadata": {},
   "outputs": [
    {
     "name": "stdout",
     "output_type": "stream",
     "text": [
      "BMI: [50.94975517 60.85665201 62.78954524 ... 56.48906288 52.35571681\n",
      " 56.71813303]\n"
     ]
    }
   ],
   "source": [
    "# Calculate the BMI: bmi\n",
    "BMI = np.divide(np_weight_kg, np.square(np_height_m))\n",
    "\n",
    "# Print out bmi\n",
    "print('BMI:', BMI)"
   ]
  },
  {
   "cell_type": "markdown",
   "metadata": {},
   "source": [
    "Create a boolean Numpy array: the element of the array should be True if the corresponding baseball player's BMI is below 21. You can use the < operator for this. Name the array light.\n",
    "Print the array light.\n",
    "Print out a Numpy array with the BMIs of all baseball players whose BMI is below 21. Use light inside square brackets to do a selection on the bmi array.\n"
   ]
  },
  {
   "cell_type": "code",
   "execution_count": 9,
   "metadata": {},
   "outputs": [
    {
     "name": "stdout",
     "output_type": "stream",
     "text": [
      "Light: [False False False ... False False False]\n",
      "BMI < 21: []\n"
     ]
    }
   ],
   "source": [
    "light = BMI < 21\n",
    "\n",
    "print('Light:', light)\n",
    "\n",
    "print('BMI < 21:', BMI[light])"
   ]
  },
  {
   "cell_type": "code",
   "execution_count": 10,
   "metadata": {},
   "outputs": [
    {
     "name": "stdout",
     "output_type": "stream",
     "text": [
      "Type: float64\n",
      "Shape: (4, 2)\n"
     ]
    }
   ],
   "source": [
    "# Create baseball, a list of lists\n",
    "baseball = [[180, 78.4],\n",
    "            [215, 102.7],\n",
    "            [210, 98.5],\n",
    "            [188, 75.2]]\n",
    "\n",
    "# Import numpy\n",
    "import numpy as np\n",
    "\n",
    "# Create a 2D Numpy array from baseball: np_baseball\n",
    "np_baseball = np.array(baseball)\n",
    "\n",
    "# Print out the type of np_baseball\n",
    "print('Type:', np_baseball.dtype)\n",
    "\n",
    "# Print out the shape of np_baseball\n",
    "print('Shape:', np_baseball.shape)"
   ]
  },
  {
   "cell_type": "code",
   "execution_count": 11,
   "metadata": {},
   "outputs": [
    {
     "name": "stdout",
     "output_type": "stream",
     "text": [
      "(1034, 2)\n"
     ]
    }
   ],
   "source": [
    "# Create a 2D Numpy array named np_baseball from the lists of weight and height\n",
    "np_baseball = np.stack((weight, height), axis=1)\n",
    "\n",
    "# Print out the shape of np_baseball\n",
    "print(np_baseball.shape)"
   ]
  },
  {
   "cell_type": "code",
   "execution_count": 12,
   "metadata": {},
   "outputs": [
    {
     "data": {
      "text/plain": [
       "array([[180.,  74.],\n",
       "       [215.,  74.],\n",
       "       [210.,  72.],\n",
       "       ...,\n",
       "       [205.,  75.],\n",
       "       [190.,  75.],\n",
       "       [195.,  73.]])"
      ]
     },
     "execution_count": 12,
     "metadata": {},
     "output_type": "execute_result"
    }
   ],
   "source": [
    "np_baseball"
   ]
  },
  {
   "cell_type": "markdown",
   "metadata": {},
   "source": [
    "- If you want to convert the units of height and weight. As a first step, create a Numpy array with two values: 0.0254, 0.453592. Name this array conversion.\n",
    "Multiply np_baseball with conversion and print out the result."
   ]
  },
  {
   "cell_type": "code",
   "execution_count": 13,
   "metadata": {},
   "outputs": [
    {
     "name": "stdout",
     "output_type": "stream",
     "text": [
      "[[81.64656  1.8796 ]\n",
      " [97.52228  1.8796 ]\n",
      " [95.25432  1.8288 ]\n",
      " ...\n",
      " [92.98636  1.905  ]\n",
      " [86.18248  1.905  ]\n",
      " [88.45044  1.8542 ]]\n"
     ]
    }
   ],
   "source": [
    "conversion = np.array([0.453592, 0.0254])\n",
    "print(np_baseball*conversion)"
   ]
  },
  {
   "cell_type": "markdown",
   "metadata": {},
   "source": [
    "### Now it's time for some statistics"
   ]
  },
  {
   "cell_type": "code",
   "execution_count": 14,
   "metadata": {},
   "outputs": [
    {
     "name": "stdout",
     "output_type": "stream",
     "text": [
      "Mean: 73.6972920696325\n",
      "Median: 74.0\n",
      "Median: 74.0\n",
      "Standard Deviation: 2.304703041620148\n",
      "Correlation: [nan]\n"
     ]
    }
   ],
   "source": [
    "# Print out the mean of np_height\n",
    "print('Mean:', np_height.mean())\n",
    "\n",
    "# Print out the median of np_height\n",
    "print('Median:', np.median(np_height))\n",
    "\n",
    "# Print median height. Replace 'None'\n",
    "print('Median:', np.median(height))\n",
    "\n",
    "# Print out the standard deviation on height. Replace 'None'\n",
    "print('Standard Deviation:', np.std(height))\n",
    "\n",
    "# Print out correlation between first and second column. Replace 'None'\n",
    "print('Correlation:', np.correlate(np_baseball[:,0], np_baseball[:,1]))"
   ]
  },
  {
   "cell_type": "code",
   "execution_count": 15,
   "metadata": {},
   "outputs": [
    {
     "data": {
      "text/plain": [
       "(array([928]),)"
      ]
     },
     "execution_count": 15,
     "metadata": {},
     "output_type": "execute_result"
    }
   ],
   "source": [
    "# Print the index of player with maximum height\n",
    "np.where(height==np.max(height))"
   ]
  },
  {
   "cell_type": "code",
   "execution_count": 16,
   "metadata": {},
   "outputs": [],
   "source": [
    "#Replace all the players height greater than 6 Feet with 6 Feet\n",
    "np_height_feet = np.divide(np_height, 12)\n",
    "np_height_feet[np.where(np_height_feet > 6)] = 6"
   ]
  },
  {
   "cell_type": "code",
   "execution_count": 17,
   "metadata": {},
   "outputs": [
    {
     "name": "stdout",
     "output_type": "stream",
     "text": [
      "1033\n"
     ]
    }
   ],
   "source": [
    "#Count number of players with weight greater than 75 kg..\n",
    "print(np.where(np_weight_kg > 75)[0].shape[0])"
   ]
  },
  {
   "cell_type": "code",
   "execution_count": 18,
   "metadata": {},
   "outputs": [
    {
     "name": "stdout",
     "output_type": "stream",
     "text": [
      "[1.70179908 1.70179908 1.72719907 ... 2.08279888 2.08279888 2.10819886]\n"
     ]
    }
   ],
   "source": [
    "# Sort the height, and get the sorting index as well\n",
    "np_height_m_sorted_indexes = np.argsort(np_height_m)\n",
    "np_height_m_sorted = np_height_m[np_height_m_sorted_indexes]\n",
    "print(np_height_m_sorted)"
   ]
  },
  {
   "cell_type": "code",
   "execution_count": 19,
   "metadata": {},
   "outputs": [
    {
     "name": "stdout",
     "output_type": "stream",
     "text": [
      "(1034, 2)\n"
     ]
    }
   ],
   "source": [
    "#Reshape the 2 x Number of Players array to Number of Players x 2\n",
    "print(np_baseball.shape)"
   ]
  },
  {
   "cell_type": "code",
   "execution_count": 20,
   "metadata": {},
   "outputs": [
    {
     "data": {
      "text/plain": [
       "<matplotlib.collections.PathCollection at 0x1212a3340>"
      ]
     },
     "execution_count": 20,
     "metadata": {},
     "output_type": "execute_result"
    },
    {
     "data": {
      "image/png": "[encoded data removed]",
      "text/plain": [
       "<Figure size 640x480 with 1 Axes>"
      ]
     },
     "metadata": {},
     "output_type": "display_data"
    }
   ],
   "source": [
    "#Generate Scatter Plot, See plt.scatter, use height as one axis and weight as second axis\n",
    "plt.scatter(np_baseball[:,1],np_baseball[:,0])"
   ]
  },
  {
   "cell_type": "code",
   "execution_count": 21,
   "metadata": {},
   "outputs": [],
   "source": [
    "#Now choose a random player, and project player height and weight to this random player, you can plot\n",
    "# the vector using plt.arrow function"
   ]
  },
  {
   "cell_type": "markdown",
   "metadata": {},
   "source": [
    "#### Advanced Operations"
   ]
  },
  {
   "cell_type": "markdown",
   "metadata": {},
   "source": [
    "1. Construct an array from the list: [1,2,3]\n",
    "2. Cast it into floats\n",
    "3. Create an array of int ranging from 0-10 \n",
    "4. Create an array containing 7 evenly spaced numbers between 0 and 23\n",
    "5. Create an array with shape (2,5,1,5,2,1) containing only the number 5\n",
    "6. Eliminate all length-1 dimensions. See the function squeeze.\n",
    "7. Reshape the resulting array from shape (2,5,3,2) to only 2D\n",
    "8. Calculate the mean, std, var, max, min, of an array with shape (3,3,12,3) containing floats drawn\n",
    "from a normal distribution with mean 21 and sigma 4.5. see the np.random.normal.\n",
    "9. Do the same but not on all elements but only on the 2nd dimension. \n",
    "10. Transform the array such that it is only 1d. See the function Flatten or ravel\n",
    "11. Remove all values smaller 15 and larger 26.\n",
    "12. Clip all values smaller 15 and larger 26 to NaN. See the function Clip\n",
    "13. Calculate the sum of the resulting array. It should not be NaN!.\n",
    "14. Convert the NaN’s to 0.0. See Where\n",
    "15. Save the array and load it again."
   ]
  },
  {
   "cell_type": "markdown",
   "metadata": {},
   "source": [
    "**Construct an array from the list: [1,2,3]**"
   ]
  },
  {
   "cell_type": "code",
   "execution_count": 22,
   "metadata": {},
   "outputs": [
    {
     "name": "stdout",
     "output_type": "stream",
     "text": [
      "[1 2 3]\n"
     ]
    }
   ],
   "source": [
    "arr = np.array([1,2,3])\n",
    "print(arr)"
   ]
  },
  {
   "cell_type": "markdown",
   "metadata": {},
   "source": [
    "**Cast it into floats**"
   ]
  },
  {
   "cell_type": "code",
   "execution_count": 23,
   "metadata": {},
   "outputs": [
    {
     "name": "stdout",
     "output_type": "stream",
     "text": [
      "[1. 2. 3.]\n"
     ]
    }
   ],
   "source": [
    "arr = np.array([1,2,3], dtype='float32')\n",
    "print(arr)"
   ]
  },
  {
   "cell_type": "markdown",
   "metadata": {},
   "source": [
    "**Create an array of int ranging from 0-10**"
   ]
  },
  {
   "cell_type": "code",
   "execution_count": 24,
   "metadata": {},
   "outputs": [
    {
     "name": "stdout",
     "output_type": "stream",
     "text": [
      "[ 0  1  2  3  4  5  6  7  8  9 10]\n"
     ]
    }
   ],
   "source": [
    "arr = np.arange(11)\n",
    "print(arr)"
   ]
  },
  {
   "cell_type": "markdown",
   "metadata": {},
   "source": [
    "**Create an array containing 7 evenly spaced numbers between 0 and 23**"
   ]
  },
  {
   "cell_type": "code",
   "execution_count": 25,
   "metadata": {},
   "outputs": [
    {
     "name": "stdout",
     "output_type": "stream",
     "text": [
      "[ 0.          3.83333333  7.66666667 11.5        15.33333333 19.16666667\n",
      " 23.        ]\n"
     ]
    }
   ],
   "source": [
    "arr = np.linspace(0, 23, 7)\n",
    "print(arr)"
   ]
  },
  {
   "cell_type": "markdown",
   "metadata": {},
   "source": [
    "**Create an array with shape (2,5,1,5,2,1) containing only the number 5**"
   ]
  },
  {
   "cell_type": "code",
   "execution_count": 26,
   "metadata": {},
   "outputs": [
    {
     "name": "stdout",
     "output_type": "stream",
     "text": [
      "(2, 5, 1, 5, 2, 1)\n"
     ]
    }
   ],
   "source": [
    "arr = np.full((2,5,1,5,2,1), 5)\n",
    "print(arr.shape)"
   ]
  },
  {
   "cell_type": "markdown",
   "metadata": {},
   "source": [
    "**Eliminate all length-1 dimensions. See the function squeeze.**"
   ]
  },
  {
   "cell_type": "code",
   "execution_count": 27,
   "metadata": {},
   "outputs": [
    {
     "name": "stdout",
     "output_type": "stream",
     "text": [
      "(2, 5, 5, 2)\n"
     ]
    }
   ],
   "source": [
    "arr = arr.squeeze()\n",
    "print(arr.shape)"
   ]
  },
  {
   "cell_type": "markdown",
   "metadata": {},
   "source": [
    "**Reshape the resulting array from shape (2,5,2,2) to only 2D**"
   ]
  },
  {
   "cell_type": "code",
   "execution_count": 28,
   "metadata": {},
   "outputs": [
    {
     "name": "stdout",
     "output_type": "stream",
     "text": [
      "[[5 5 5 5 5 5 5 5 5 5]\n",
      " [5 5 5 5 5 5 5 5 5 5]\n",
      " [5 5 5 5 5 5 5 5 5 5]\n",
      " [5 5 5 5 5 5 5 5 5 5]\n",
      " [5 5 5 5 5 5 5 5 5 5]\n",
      " [5 5 5 5 5 5 5 5 5 5]\n",
      " [5 5 5 5 5 5 5 5 5 5]\n",
      " [5 5 5 5 5 5 5 5 5 5]\n",
      " [5 5 5 5 5 5 5 5 5 5]\n",
      " [5 5 5 5 5 5 5 5 5 5]]\n"
     ]
    }
   ],
   "source": [
    "arr = arr.reshape((10,10))\n",
    "print(arr)"
   ]
  },
  {
   "cell_type": "markdown",
   "metadata": {},
   "source": [
    "**Calculate the mean, std, var, max, min, of an array with shape (3,3,12,3) containing floats drawn from a normal distribution with mean 21 and sigma 4.5. see the np.random.normal.**"
   ]
  },
  {
   "cell_type": "code",
   "execution_count": 29,
   "metadata": {},
   "outputs": [
    {
     "name": "stdout",
     "output_type": "stream",
     "text": [
      "Mean: 21.1753783844918\n",
      "Std: 4.377572129079731\n",
      "Var: 19.163137745295643\n",
      "Max: 35.043360820126274\n",
      "Min: 9.362980846718614\n"
     ]
    }
   ],
   "source": [
    "arr = np.random.normal(21, 4.5, (3,3,12,3))\n",
    "\n",
    "print('Mean:', arr.mean())\n",
    "print('Std:', arr.std())\n",
    "print('Var:', arr.var())\n",
    "print('Max:', arr.max())\n",
    "print('Min:', arr.min())"
   ]
  },
  {
   "cell_type": "markdown",
   "metadata": {},
   "source": [
    "**Do the same but not on all elements but only on the 2nd dimension.**"
   ]
  },
  {
   "cell_type": "code",
   "execution_count": 30,
   "metadata": {},
   "outputs": [
    {
     "name": "stdout",
     "output_type": "stream",
     "text": [
      "Mean:\n",
      "\n",
      " [[[21.29271343 21.57378705 21.48191908]\n",
      "  [20.47207502 19.3364229  19.60607937]\n",
      "  [20.21659816 22.8830552  20.60900049]]\n",
      "\n",
      " [[19.12187351 21.49765172 18.8900118 ]\n",
      "  [21.71784669 21.93291933 22.88088229]\n",
      "  [21.04460279 22.89959128 21.90755938]]\n",
      "\n",
      " [[22.15972012 22.09782751 21.08012762]\n",
      "  [22.58529915 22.20954056 20.93829795]\n",
      "  [19.43005233 21.44290902 20.42685264]]]\n",
      "\n",
      "Std:\n",
      "\n",
      " [[[3.89972272 6.2496806  5.3107283 ]\n",
      "  [3.26379927 4.9913592  4.01650008]\n",
      "  [4.24057349 3.78846885 3.53035222]]\n",
      "\n",
      " [[3.28777232 4.04455804 4.54678019]\n",
      "  [5.25045944 5.5013222  4.3621049 ]\n",
      "  [2.86729453 3.40212582 4.32080689]]\n",
      "\n",
      " [[4.47848917 3.38603281 3.68153018]\n",
      "  [4.27717816 3.30581442 4.44380734]\n",
      "  [3.48627424 4.65158062 3.34748768]]]\n",
      "\n",
      "Var:\n",
      "\n",
      " [[[15.20783728 39.05850766 28.20383508]\n",
      "  [10.6523857  24.91366664 16.13227285]\n",
      "  [17.9824635  14.35249626 12.46338677]]\n",
      "\n",
      " [[10.80944686 16.35844975 20.67321012]\n",
      "  [27.56732435 30.26454591 19.02795918]\n",
      "  [ 8.2213779  11.57446011 18.66937222]]\n",
      "\n",
      " [[20.05686523 11.46521818 13.55366446]\n",
      "  [18.29425305 10.928409   19.74742372]\n",
      "  [12.15410807 21.63720224 11.20567378]]]\n",
      "\n",
      "Max:\n",
      "\n",
      " [[[26.98832838 34.83920453 32.16925831]\n",
      "  [27.20436187 25.89245035 26.96575487]\n",
      "  [29.49587543 31.09362157 24.50411741]]\n",
      "\n",
      " [[24.58082484 33.38863382 26.9904983 ]\n",
      "  [30.66005993 35.04336082 29.70615983]\n",
      "  [24.98709075 27.35107874 28.33704715]]\n",
      "\n",
      " [[29.31635297 26.87619536 28.50107186]\n",
      "  [29.84732048 29.6125812  27.77775044]\n",
      "  [25.92523513 27.76148896 26.09376763]]]\n",
      "\n",
      "Min:\n",
      "\n",
      " [[[13.48551725 10.35124238 12.96444314]\n",
      "  [15.72000578  9.36298085 12.78365422]\n",
      "  [12.05822161 18.15133478 11.89149693]]\n",
      "\n",
      " [[14.6863689  16.9484667  12.72822852]\n",
      "  [14.17082613 15.1723913  16.34713138]\n",
      "  [14.81873404 16.85260622 13.69858816]]\n",
      "\n",
      " [[14.22869635 14.35573843 16.32490757]\n",
      "  [14.84249715 17.1828855  15.71569437]\n",
      "  [13.196764   11.16502557 14.18775284]]]\n",
      "\n"
     ]
    }
   ],
   "source": [
    "print('Mean:\\n\\n', arr.mean(axis=2), end='\\n\\n')\n",
    "print('Std:\\n\\n', arr.std(axis=2), end='\\n\\n')\n",
    "print('Var:\\n\\n', arr.var(axis=2), end='\\n\\n')\n",
    "print('Max:\\n\\n', arr.max(axis=2), end='\\n\\n')\n",
    "print('Min:\\n\\n', arr.min(axis=2), end='\\n\\n')"
   ]
  },
  {
   "cell_type": "markdown",
   "metadata": {},
   "source": [
    "**Transform the array such that it is only 1d. See the function Flatten or ravel**"
   ]
  },
  {
   "cell_type": "code",
   "execution_count": 31,
   "metadata": {},
   "outputs": [
    {
     "name": "stdout",
     "output_type": "stream",
     "text": [
      "[25.71244668 10.35124238 22.22515572 13.48551725 27.83542496 16.83048613\n",
      " 26.98832838 25.98422171 25.95972785 19.28899387 16.99058531 32.16925831\n",
      " 21.24293847 17.87166215 17.65338714 20.21454428 16.30523152 21.46994579\n",
      " 18.12355953 24.52005585 23.70031146 21.96111128 34.83920453 27.90462725\n",
      " 19.08442436 18.31775955 22.33402974 25.5285187  25.68637242 14.76891449\n",
      " 18.05276152 18.49995648 19.80274197 25.82941683 21.68372767 12.96444314\n",
      " 17.79529533 22.07274247 26.96575487 15.72000578 22.21322669 12.78365422\n",
      " 20.64351397 21.23805924 17.01129546 27.20436187  9.36298085 19.4718976\n",
      " 16.24333971 24.33295645 22.88936179 21.98758885 23.65745522 21.72236624\n",
      " 19.95784384 25.89245035 18.83616747 20.33767744 13.8149162  24.97126359\n",
      " 22.35797535 12.96656996 15.17154278 18.24395874 18.4962859  21.86089856\n",
      " 19.86613532 15.71636221 16.1129095  25.3072041  22.27306922 17.47584043\n",
      " 22.28956746 20.01396531 22.43481003 17.77845907 27.10321702 21.29096567\n",
      " 29.49587543 26.5274437  23.42178032 21.06260138 31.09362157 23.64652641\n",
      " 24.60801936 18.43409046 20.26098941 21.98278204 25.97373251 18.58787654\n",
      " 12.05822161 22.53552942 17.19008451 15.81080465 22.25739183 22.81859281\n",
      " 19.48606362 18.15133478 24.50411741 21.5666301  20.18425469 11.89149693\n",
      " 18.00180378 21.03381756 23.51817038 18.45834938 21.28826355 17.74259543\n",
      " 16.99141397 19.34846889 19.47670486 17.81102149 33.38863382 17.4198353\n",
      " 14.98245928 19.35323085 14.05688502 19.97396263 23.0579331  23.20594435\n",
      " 19.20621979 21.01056407 14.78449812 14.6863689  19.37421909 26.9904983\n",
      " 22.06555294 16.9484667  16.08642766 21.81718229 18.14774566 22.45146039\n",
      " 18.52033334 22.93169527 12.72822852 24.58082484 21.54218274 24.43197936\n",
      " 23.8662355  19.93029902 13.77180358 14.96090715 22.93838142 21.27587611\n",
      " 24.58549182 20.19118404 24.58796976 26.18097205 18.52399083 28.40020178\n",
      " 23.86125331 16.89469014 24.33183499 18.28126221 35.04336082 20.8544928\n",
      " 16.12911141 24.82612981 20.22557478 15.16286923 15.1723913  25.8569837\n",
      " 29.48143925 17.59721623 24.33387631 30.66005993 21.15878263 29.70615983\n",
      " 19.84453543 29.21175916 16.41351898 18.81946666 20.56388069 17.44956652\n",
      " 14.17082613 25.39058794 16.34713138 23.4368729  18.62105842 26.06327667\n",
      " 24.98709075 21.12486516 21.80064465 22.9856674  19.90217921 24.6341861\n",
      " 23.68301119 25.97818239 19.83874825 21.43010491 26.27951081 27.54920512\n",
      " 14.81873404 26.20190669 18.33766944 18.16881891 25.73960225 17.69013133\n",
      " 20.32419695 27.35107874 28.33704715 22.33445225 16.85260622 26.51777667\n",
      " 24.37234988 20.14471177 13.69858816 21.67650593 21.05200536 19.79795079\n",
      " 19.91460194 19.06988205 19.59339346 17.83969939 25.09856468 25.09537145\n",
      " 26.5733154  22.21013839 16.32490757 25.67424096 24.49729079 27.64346358\n",
      " 29.31635297 23.53927771 19.03369955 22.88544353 23.27621979 20.83996526\n",
      " 17.30562872 23.20024069 21.58017003 24.98556115 14.35573843 17.00957844\n",
      " 15.15566432 25.31925011 20.69798604 24.28277794 22.49675023 22.85613467\n",
      " 21.5970932  21.25639794 21.47385929 14.22869635 26.87619536 19.92395514\n",
      " 24.04089586 16.35137114 17.07674005 19.87097106 21.79505955 28.50107186\n",
      " 23.27444693 24.81303052 27.77775044 26.46641519 22.71473977 18.64397715\n",
      " 21.39131731 20.68583658 16.73979302 22.72289122 26.17645171 23.56753109\n",
      " 16.73651494 20.39428541 25.81861008 27.11005779 17.1828855  27.28479644\n",
      " 29.84732048 29.6125812  24.8813516  19.57209616 20.9285936  16.16651763\n",
      " 21.89736505 23.33649791 18.29332109 14.84249715 18.40030181 15.71569437\n",
      " 27.01950599 19.92013191 16.11845263 20.14316156 22.34915078 20.2517798\n",
      " 13.196764   15.06450048 18.41016479 19.60926065 11.16502557 25.42318003\n",
      " 20.78313218 20.45102891 20.48483756 16.22947925 24.15369705 19.43205228\n",
      " 20.50943582 22.29081335 17.10765226 22.11239152 24.91655791 23.36251834\n",
      " 23.20823463 25.16111452 26.09376763 16.34123296 23.59873877 22.08513802\n",
      " 20.38606298 25.54802533 14.18775284 19.83896755 19.24187386 20.4020109\n",
      " 15.02043124 17.9620435  17.15372162 25.92523513 27.76148896 20.9794354 ]\n"
     ]
    }
   ],
   "source": [
    "arr = arr.flatten()\n",
    "print(arr)"
   ]
  },
  {
   "cell_type": "markdown",
   "metadata": {},
   "source": [
    "**Remove all values smaller 15 and larger 26.**"
   ]
  },
  {
   "cell_type": "code",
   "execution_count": 32,
   "metadata": {},
   "outputs": [
    {
     "name": "stdout",
     "output_type": "stream",
     "text": [
      "[25.71244668 22.22515572 16.83048613 25.98422171 25.95972785 19.28899387\n",
      " 16.99058531 21.24293847 17.87166215 17.65338714 20.21454428 16.30523152\n",
      " 21.46994579 18.12355953 24.52005585 23.70031146 21.96111128 19.08442436\n",
      " 18.31775955 22.33402974 25.5285187  25.68637242 18.05276152 18.49995648\n",
      " 19.80274197 25.82941683 21.68372767 17.79529533 22.07274247 15.72000578\n",
      " 22.21322669 20.64351397 21.23805924 17.01129546 19.4718976  16.24333971\n",
      " 24.33295645 22.88936179 21.98758885 23.65745522 21.72236624 19.95784384\n",
      " 25.89245035 18.83616747 20.33767744 24.97126359 22.35797535 15.17154278\n",
      " 18.24395874 18.4962859  21.86089856 19.86613532 15.71636221 16.1129095\n",
      " 25.3072041  22.27306922 17.47584043 22.28956746 20.01396531 22.43481003\n",
      " 17.77845907 21.29096567 23.42178032 21.06260138 23.64652641 24.60801936\n",
      " 18.43409046 20.26098941 21.98278204 25.97373251 18.58787654 22.53552942\n",
      " 17.19008451 15.81080465 22.25739183 22.81859281 19.48606362 18.15133478\n",
      " 24.50411741 21.5666301  20.18425469 18.00180378 21.03381756 23.51817038\n",
      " 18.45834938 21.28826355 17.74259543 16.99141397 19.34846889 19.47670486\n",
      " 17.81102149 17.4198353  19.35323085 19.97396263 23.0579331  23.20594435\n",
      " 19.20621979 21.01056407 19.37421909 22.06555294 16.9484667  16.08642766\n",
      " 21.81718229 18.14774566 22.45146039 18.52033334 22.93169527 24.58082484\n",
      " 21.54218274 24.43197936 23.8662355  19.93029902 22.93838142 21.27587611\n",
      " 24.58549182 20.19118404 24.58796976 18.52399083 23.86125331 16.89469014\n",
      " 24.33183499 18.28126221 20.8544928  16.12911141 24.82612981 20.22557478\n",
      " 15.16286923 15.1723913  25.8569837  17.59721623 24.33387631 21.15878263\n",
      " 19.84453543 16.41351898 18.81946666 20.56388069 17.44956652 25.39058794\n",
      " 16.34713138 23.4368729  18.62105842 24.98709075 21.12486516 21.80064465\n",
      " 22.9856674  19.90217921 24.6341861  23.68301119 25.97818239 19.83874825\n",
      " 21.43010491 18.33766944 18.16881891 25.73960225 17.69013133 20.32419695\n",
      " 22.33445225 16.85260622 24.37234988 20.14471177 21.67650593 21.05200536\n",
      " 19.79795079 19.91460194 19.06988205 19.59339346 17.83969939 25.09856468\n",
      " 25.09537145 22.21013839 16.32490757 25.67424096 24.49729079 23.53927771\n",
      " 19.03369955 22.88544353 23.27621979 20.83996526 17.30562872 23.20024069\n",
      " 21.58017003 24.98556115 17.00957844 15.15566432 25.31925011 20.69798604\n",
      " 24.28277794 22.49675023 22.85613467 21.5970932  21.25639794 21.47385929\n",
      " 19.92395514 24.04089586 16.35137114 17.07674005 19.87097106 21.79505955\n",
      " 23.27444693 24.81303052 22.71473977 18.64397715 21.39131731 20.68583658\n",
      " 16.73979302 22.72289122 23.56753109 16.73651494 20.39428541 25.81861008\n",
      " 17.1828855  24.8813516  19.57209616 20.9285936  16.16651763 21.89736505\n",
      " 23.33649791 18.29332109 18.40030181 15.71569437 19.92013191 16.11845263\n",
      " 20.14316156 22.34915078 20.2517798  15.06450048 18.41016479 19.60926065\n",
      " 25.42318003 20.78313218 20.45102891 20.48483756 16.22947925 24.15369705\n",
      " 19.43205228 20.50943582 22.29081335 17.10765226 22.11239152 24.91655791\n",
      " 23.36251834 23.20823463 25.16111452 16.34123296 23.59873877 22.08513802\n",
      " 20.38606298 25.54802533 19.83896755 19.24187386 20.4020109  15.02043124\n",
      " 17.9620435  17.15372162 25.92523513 20.9794354 ]\n"
     ]
    }
   ],
   "source": [
    "arr = arr[(arr >= 15) & (arr <= 26)]\n",
    "print(arr)"
   ]
  },
  {
   "cell_type": "markdown",
   "metadata": {},
   "source": [
    "**Clip all values smaller 15 and larger 26 to NaN. See the function Clip**"
   ]
  },
  {
   "cell_type": "code",
   "execution_count": 33,
   "metadata": {},
   "outputs": [],
   "source": [
    "from numpy import nan\n",
    "\n",
    "arr[np.where((arr < 15) | (arr > 26))] = nan"
   ]
  },
  {
   "cell_type": "markdown",
   "metadata": {},
   "source": [
    "**Calculate the sum of the resulting array. It should not be NaN!.**"
   ]
  },
  {
   "cell_type": "code",
   "execution_count": 34,
   "metadata": {},
   "outputs": [
    {
     "name": "stdout",
     "output_type": "stream",
     "text": [
      "5322.188326639211\n"
     ]
    }
   ],
   "source": [
    "arr = arr.flatten()\n",
    "arr2 = []\n",
    "for i in range(arr.shape[0]):\n",
    "    if not np.isnan(arr[i]):\n",
    "        arr2.append(arr[i])\n",
    "\n",
    "arr2 = np.array(arr2)\n",
    "print(arr2.sum())"
   ]
  },
  {
   "cell_type": "markdown",
   "metadata": {},
   "source": [
    "**Convert the NaN’s to 0.0. See Where**"
   ]
  },
  {
   "cell_type": "code",
   "execution_count": 35,
   "metadata": {},
   "outputs": [],
   "source": [
    "for i in range(arr.shape[0]):\n",
    "    if np.isnan(arr[i]):\n",
    "        arr[i] = 0.0"
   ]
  },
  {
   "cell_type": "markdown",
   "metadata": {},
   "source": [
    "**Save the array and load it again.**"
   ]
  },
  {
   "cell_type": "code",
   "execution_count": 36,
   "metadata": {},
   "outputs": [],
   "source": [
    "np.save('arr', arr)"
   ]
  },
  {
   "cell_type": "code",
   "execution_count": 37,
   "metadata": {},
   "outputs": [
    {
     "name": "stdout",
     "output_type": "stream",
     "text": [
      "[25.71244668 22.22515572 16.83048613 25.98422171 25.95972785 19.28899387\n",
      " 16.99058531 21.24293847 17.87166215 17.65338714 20.21454428 16.30523152\n",
      " 21.46994579 18.12355953 24.52005585 23.70031146 21.96111128 19.08442436\n",
      " 18.31775955 22.33402974 25.5285187  25.68637242 18.05276152 18.49995648\n",
      " 19.80274197 25.82941683 21.68372767 17.79529533 22.07274247 15.72000578\n",
      " 22.21322669 20.64351397 21.23805924 17.01129546 19.4718976  16.24333971\n",
      " 24.33295645 22.88936179 21.98758885 23.65745522 21.72236624 19.95784384\n",
      " 25.89245035 18.83616747 20.33767744 24.97126359 22.35797535 15.17154278\n",
      " 18.24395874 18.4962859  21.86089856 19.86613532 15.71636221 16.1129095\n",
      " 25.3072041  22.27306922 17.47584043 22.28956746 20.01396531 22.43481003\n",
      " 17.77845907 21.29096567 23.42178032 21.06260138 23.64652641 24.60801936\n",
      " 18.43409046 20.26098941 21.98278204 25.97373251 18.58787654 22.53552942\n",
      " 17.19008451 15.81080465 22.25739183 22.81859281 19.48606362 18.15133478\n",
      " 24.50411741 21.5666301  20.18425469 18.00180378 21.03381756 23.51817038\n",
      " 18.45834938 21.28826355 17.74259543 16.99141397 19.34846889 19.47670486\n",
      " 17.81102149 17.4198353  19.35323085 19.97396263 23.0579331  23.20594435\n",
      " 19.20621979 21.01056407 19.37421909 22.06555294 16.9484667  16.08642766\n",
      " 21.81718229 18.14774566 22.45146039 18.52033334 22.93169527 24.58082484\n",
      " 21.54218274 24.43197936 23.8662355  19.93029902 22.93838142 21.27587611\n",
      " 24.58549182 20.19118404 24.58796976 18.52399083 23.86125331 16.89469014\n",
      " 24.33183499 18.28126221 20.8544928  16.12911141 24.82612981 20.22557478\n",
      " 15.16286923 15.1723913  25.8569837  17.59721623 24.33387631 21.15878263\n",
      " 19.84453543 16.41351898 18.81946666 20.56388069 17.44956652 25.39058794\n",
      " 16.34713138 23.4368729  18.62105842 24.98709075 21.12486516 21.80064465\n",
      " 22.9856674  19.90217921 24.6341861  23.68301119 25.97818239 19.83874825\n",
      " 21.43010491 18.33766944 18.16881891 25.73960225 17.69013133 20.32419695\n",
      " 22.33445225 16.85260622 24.37234988 20.14471177 21.67650593 21.05200536\n",
      " 19.79795079 19.91460194 19.06988205 19.59339346 17.83969939 25.09856468\n",
      " 25.09537145 22.21013839 16.32490757 25.67424096 24.49729079 23.53927771\n",
      " 19.03369955 22.88544353 23.27621979 20.83996526 17.30562872 23.20024069\n",
      " 21.58017003 24.98556115 17.00957844 15.15566432 25.31925011 20.69798604\n",
      " 24.28277794 22.49675023 22.85613467 21.5970932  21.25639794 21.47385929\n",
      " 19.92395514 24.04089586 16.35137114 17.07674005 19.87097106 21.79505955\n",
      " 23.27444693 24.81303052 22.71473977 18.64397715 21.39131731 20.68583658\n",
      " 16.73979302 22.72289122 23.56753109 16.73651494 20.39428541 25.81861008\n",
      " 17.1828855  24.8813516  19.57209616 20.9285936  16.16651763 21.89736505\n",
      " 23.33649791 18.29332109 18.40030181 15.71569437 19.92013191 16.11845263\n",
      " 20.14316156 22.34915078 20.2517798  15.06450048 18.41016479 19.60926065\n",
      " 25.42318003 20.78313218 20.45102891 20.48483756 16.22947925 24.15369705\n",
      " 19.43205228 20.50943582 22.29081335 17.10765226 22.11239152 24.91655791\n",
      " 23.36251834 23.20823463 25.16111452 16.34123296 23.59873877 22.08513802\n",
      " 20.38606298 25.54802533 19.83896755 19.24187386 20.4020109  15.02043124\n",
      " 17.9620435  17.15372162 25.92523513 20.9794354 ]\n"
     ]
    }
   ],
   "source": [
    "print(np.load('arr.npy'))"
   ]
  },
  {
   "cell_type": "markdown",
   "metadata": {},
   "source": [
    "**•\tCreate a vectorised function that outputs values if they are even.**"
   ]
  },
  {
   "cell_type": "code",
   "execution_count": 38,
   "metadata": {},
   "outputs": [],
   "source": [
    "def returnEven(arr):\n",
    "    return arr%2 == 0"
   ]
  },
  {
   "cell_type": "code",
   "execution_count": 39,
   "metadata": {},
   "outputs": [],
   "source": [
    "returnEven = np.vectorize(returnEven)"
   ]
  },
  {
   "cell_type": "code",
   "execution_count": 40,
   "metadata": {},
   "outputs": [
    {
     "name": "stdout",
     "output_type": "stream",
     "text": [
      "[1 2 3 4 5 6 7 8 9 0]\n",
      "[False  True False  True False  True False  True False  True]\n"
     ]
    }
   ],
   "source": [
    "arr = np.array([1,2,3,4,5,6,7,8,9,0])\n",
    "print(arr)\n",
    "print(returnEven(arr))"
   ]
  },
  {
   "cell_type": "markdown",
   "metadata": {},
   "source": [
    "**•\tPerform sum over an array using .sum() and then through iteration, compute the time taken in both operations. Which is better?**"
   ]
  },
  {
   "cell_type": "code",
   "execution_count": 41,
   "metadata": {},
   "outputs": [],
   "source": [
    "import time\n",
    "\n",
    "arr = np.arange(10000)"
   ]
  },
  {
   "cell_type": "code",
   "execution_count": 42,
   "metadata": {},
   "outputs": [
    {
     "name": "stdout",
     "output_type": "stream",
     "text": [
      "5.0067901611328125e-05\n"
     ]
    }
   ],
   "source": [
    "start = time.time()\n",
    "arr.sum()\n",
    "stop = time.time()\n",
    "\n",
    "print(stop-start)"
   ]
  },
  {
   "cell_type": "code",
   "execution_count": 43,
   "metadata": {},
   "outputs": [
    {
     "name": "stdout",
     "output_type": "stream",
     "text": [
      "0.0007569789886474609\n"
     ]
    }
   ],
   "source": [
    "summ = 0\n",
    "\n",
    "start = time.time()\n",
    "for i in arr:\n",
    "    summ += i\n",
    "    \n",
    "stop = time.time()\n",
    "\n",
    "print(stop-start)"
   ]
  }
 ],
 "metadata": {
  "kernelspec": {
   "display_name": "Python 3 (ipykernel)",
   "language": "python",
   "name": "python3"
  },
  "language_info": {
   "codemirror_mode": {
    "name": "ipython",
    "version": 3
   },
   "file_extension": ".py",
   "mimetype": "text/x-python",
   "name": "python",
   "nbconvert_exporter": "python",
   "pygments_lexer": "ipython3",
   "version": "3.10.6"
  }
 },
 "nbformat": 4,
 "nbformat_minor": 1
}
