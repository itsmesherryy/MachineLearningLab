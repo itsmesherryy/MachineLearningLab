{
 "cells": [
  {
   "cell_type": "code",
   "execution_count": 224,
   "id": "72f5d385",
   "metadata": {},
   "outputs": [],
   "source": [
    "import numpy as np\n",
    "import pandas as pd\n",
    "from itertools import combinations\n",
    "from math import pi, e"
   ]
  },
  {
   "cell_type": "markdown",
   "id": "7afb01dd",
   "metadata": {},
   "source": [
    "You and your friend are standing in front of a magician and he has a basket with 6 white,\n",
    "4 red and 5 blue balls, each time the magician draws 3 balls and asks you to predict\n",
    "what would be the color of the balls. If you predict correctly the magician loses the\n",
    "game and you win. Since you have become a statistician after doing the ML assignment,\n",
    "what should be the optimal color scheme of the balls that you would propose in order\n",
    "to win the game?"
   ]
  },
  {
   "cell_type": "code",
   "execution_count": 225,
   "id": "b3d66c90",
   "metadata": {},
   "outputs": [
    {
     "data": {
      "text/plain": [
       "['W', 'W', 'W', 'W', 'W', 'W', 'R', 'R', 'R', 'R', 'B', 'B', 'B', 'B', 'B']"
      ]
     },
     "execution_count": 225,
     "metadata": {},
     "output_type": "execute_result"
    }
   ],
   "source": [
    "white = ['W' for x in range(6)]\n",
    "red = ['R' for x in range(4)]\n",
    "blue = ['B' for x in range(5)]\n",
    "\n",
    "balls = white\n",
    "balls.extend(red)\n",
    "balls.extend(blue)\n",
    "\n",
    "balls"
   ]
  },
  {
   "cell_type": "code",
   "execution_count": 226,
   "id": "293fdc83",
   "metadata": {},
   "outputs": [
    {
     "name": "stdout",
     "output_type": "stream",
     "text": [
      "Combination: ('W', 'R', 'B') \n",
      "\n",
      "Probability: 0.26\n"
     ]
    }
   ],
   "source": [
    "a = list(combinations(balls, 3))\n",
    "uniqueComb = list(set(a))\n",
    "l = [a.count(j) for i, j in enumerate(uniqueComb)]\n",
    "        \n",
    "print('Combination:', uniqueComb[l.index(max(l))], '\\n\\nProbability:', '%.2f' % (max(l)/len(a)))"
   ]
  },
  {
   "cell_type": "markdown",
   "id": "500bd415",
   "metadata": {},
   "source": [
    "Write a function that takes input from user and determines the input parameters belong\n",
    "which class (using Naïve assumptions) (use the provided dataset) . Compare your results\n",
    "with GaussianNB() built in function"
   ]
  },
  {
   "cell_type": "code",
   "execution_count": 227,
   "id": "28a9c649",
   "metadata": {},
   "outputs": [
    {
     "data": {
      "text/html": [
       "<div>\n",
       "<style scoped>\n",
       "    .dataframe tbody tr th:only-of-type {\n",
       "        vertical-align: middle;\n",
       "    }\n",
       "\n",
       "    .dataframe tbody tr th {\n",
       "        vertical-align: top;\n",
       "    }\n",
       "\n",
       "    .dataframe thead th {\n",
       "        text-align: right;\n",
       "    }\n",
       "</style>\n",
       "<table border=\"1\" class=\"dataframe\">\n",
       "  <thead>\n",
       "    <tr style=\"text-align: right;\">\n",
       "      <th></th>\n",
       "      <th>sepal.length</th>\n",
       "      <th>sepal.width</th>\n",
       "      <th>petal.length</th>\n",
       "      <th>petal.width</th>\n",
       "      <th>variety</th>\n",
       "    </tr>\n",
       "  </thead>\n",
       "  <tbody>\n",
       "    <tr>\n",
       "      <th>0</th>\n",
       "      <td>5.1</td>\n",
       "      <td>3.5</td>\n",
       "      <td>1.4</td>\n",
       "      <td>0.2</td>\n",
       "      <td>Setosa</td>\n",
       "    </tr>\n",
       "    <tr>\n",
       "      <th>1</th>\n",
       "      <td>4.9</td>\n",
       "      <td>3.0</td>\n",
       "      <td>1.4</td>\n",
       "      <td>0.2</td>\n",
       "      <td>Setosa</td>\n",
       "    </tr>\n",
       "    <tr>\n",
       "      <th>2</th>\n",
       "      <td>4.7</td>\n",
       "      <td>3.2</td>\n",
       "      <td>1.3</td>\n",
       "      <td>0.2</td>\n",
       "      <td>Setosa</td>\n",
       "    </tr>\n",
       "    <tr>\n",
       "      <th>3</th>\n",
       "      <td>4.6</td>\n",
       "      <td>3.1</td>\n",
       "      <td>1.5</td>\n",
       "      <td>0.2</td>\n",
       "      <td>Setosa</td>\n",
       "    </tr>\n",
       "    <tr>\n",
       "      <th>4</th>\n",
       "      <td>5.0</td>\n",
       "      <td>3.6</td>\n",
       "      <td>1.4</td>\n",
       "      <td>0.2</td>\n",
       "      <td>Setosa</td>\n",
       "    </tr>\n",
       "    <tr>\n",
       "      <th>...</th>\n",
       "      <td>...</td>\n",
       "      <td>...</td>\n",
       "      <td>...</td>\n",
       "      <td>...</td>\n",
       "      <td>...</td>\n",
       "    </tr>\n",
       "    <tr>\n",
       "      <th>145</th>\n",
       "      <td>6.7</td>\n",
       "      <td>3.0</td>\n",
       "      <td>5.2</td>\n",
       "      <td>2.3</td>\n",
       "      <td>Virginica</td>\n",
       "    </tr>\n",
       "    <tr>\n",
       "      <th>146</th>\n",
       "      <td>6.3</td>\n",
       "      <td>2.5</td>\n",
       "      <td>5.0</td>\n",
       "      <td>1.9</td>\n",
       "      <td>Virginica</td>\n",
       "    </tr>\n",
       "    <tr>\n",
       "      <th>147</th>\n",
       "      <td>6.5</td>\n",
       "      <td>3.0</td>\n",
       "      <td>5.2</td>\n",
       "      <td>2.0</td>\n",
       "      <td>Virginica</td>\n",
       "    </tr>\n",
       "    <tr>\n",
       "      <th>148</th>\n",
       "      <td>6.2</td>\n",
       "      <td>3.4</td>\n",
       "      <td>5.4</td>\n",
       "      <td>2.3</td>\n",
       "      <td>Virginica</td>\n",
       "    </tr>\n",
       "    <tr>\n",
       "      <th>149</th>\n",
       "      <td>5.9</td>\n",
       "      <td>3.0</td>\n",
       "      <td>5.1</td>\n",
       "      <td>1.8</td>\n",
       "      <td>Virginica</td>\n",
       "    </tr>\n",
       "  </tbody>\n",
       "</table>\n",
       "<p>150 rows × 5 columns</p>\n",
       "</div>"
      ],
      "text/plain": [
       "     sepal.length  sepal.width  petal.length  petal.width    variety\n",
       "0             5.1          3.5           1.4          0.2     Setosa\n",
       "1             4.9          3.0           1.4          0.2     Setosa\n",
       "2             4.7          3.2           1.3          0.2     Setosa\n",
       "3             4.6          3.1           1.5          0.2     Setosa\n",
       "4             5.0          3.6           1.4          0.2     Setosa\n",
       "..            ...          ...           ...          ...        ...\n",
       "145           6.7          3.0           5.2          2.3  Virginica\n",
       "146           6.3          2.5           5.0          1.9  Virginica\n",
       "147           6.5          3.0           5.2          2.0  Virginica\n",
       "148           6.2          3.4           5.4          2.3  Virginica\n",
       "149           5.9          3.0           5.1          1.8  Virginica\n",
       "\n",
       "[150 rows x 5 columns]"
      ]
     },
     "execution_count": 227,
     "metadata": {},
     "output_type": "execute_result"
    }
   ],
   "source": [
    "df = pd.read_csv('iris.csv')\n",
    "df"
   ]
  },
  {
   "cell_type": "code",
   "execution_count": 228,
   "id": "b4a40086",
   "metadata": {},
   "outputs": [
    {
     "name": "stdout",
     "output_type": "stream",
     "text": [
      "%pylab is deprecated, use %matplotlib inline and import the required libraries.\n",
      "Populating the interactive namespace from numpy and matplotlib\n"
     ]
    },
    {
     "name": "stderr",
     "output_type": "stream",
     "text": [
      "/opt/homebrew/Cellar/jupyterlab/3.4.5/libexec/lib/python3.10/site-packages/IPython/core/magics/pylab.py:162: UserWarning: pylab import has clobbered these variables: ['pi', 'e']\n",
      "`%matplotlib` prevents importing * from pylab and numpy\n",
      "  warn(\"pylab import has clobbered these variables: %s\"  % clobbered +\n"
     ]
    }
   ],
   "source": [
    "%pylab inline "
   ]
  },
  {
   "cell_type": "markdown",
   "id": "59b101f3",
   "metadata": {},
   "source": [
    "\n",
    "$$f_{\\mathbf x}(x_1,\\ldots,x_k) = \\frac{1}{\\sqrt{(2\\pi)^k|\\boldsymbol\\Sigma|}} \\exp\\left(-\\frac{1}{2}({\\mathbf x}-{\\boldsymbol\\mu})^\\mathrm{T}{\\boldsymbol\\Sigma}^{-1}({\\mathbf x}-{\\boldsymbol\\mu}) \\right)$$"
   ]
  },
  {
   "cell_type": "code",
   "execution_count": 231,
   "id": "1d7900f9",
   "metadata": {},
   "outputs": [
    {
     "ename": "TypeError",
     "evalue": "unsupported operand type(s) for -: 'float' and 'function'",
     "output_type": "error",
     "traceback": [
      "\u001b[0;31m---------------------------------------------------------------------------\u001b[0m",
      "\u001b[0;31mTypeError\u001b[0m                                 Traceback (most recent call last)",
      "Input \u001b[0;32mIn [231]\u001b[0m, in \u001b[0;36m<cell line: 17>\u001b[0;34m()\u001b[0m\n\u001b[1;32m     13\u001b[0m     second \u001b[38;5;241m=\u001b[39m e\u001b[38;5;241m*\u001b[39m\u001b[38;5;241m*\u001b[39m((\u001b[38;5;241m-\u001b[39m\u001b[38;5;241m0.5\u001b[39m)\u001b[38;5;241m*\u001b[39m((a\u001b[38;5;241m.\u001b[39mdot(b))\u001b[38;5;241m.\u001b[39mdot(c)))\n\u001b[1;32m     15\u001b[0m     \u001b[38;5;28;01mreturn\u001b[39;00m first\u001b[38;5;241m*\u001b[39msecond\n\u001b[0;32m---> 17\u001b[0m \u001b[43mGuassianNB\u001b[49m\u001b[43m(\u001b[49m\u001b[43mnp\u001b[49m\u001b[38;5;241;43m.\u001b[39;49m\u001b[43marray\u001b[49m\u001b[43m(\u001b[49m\u001b[43m[\u001b[49m\u001b[38;5;241;43m5.8\u001b[39;49m\u001b[43m,\u001b[49m\u001b[43m \u001b[49m\u001b[38;5;241;43m4.0\u001b[39;49m\u001b[43m,\u001b[49m\u001b[43m \u001b[49m\u001b[38;5;241;43m1.2\u001b[39;49m\u001b[43m,\u001b[49m\u001b[43m \u001b[49m\u001b[38;5;241;43m0.2\u001b[39;49m\u001b[43m]\u001b[49m\u001b[43m,\u001b[49m\u001b[43m \u001b[49m\u001b[43mdtype\u001b[49m\u001b[38;5;241;43m=\u001b[39;49m\u001b[38;5;124;43m'\u001b[39;49m\u001b[38;5;124;43mfloat32\u001b[39;49m\u001b[38;5;124;43m'\u001b[39;49m\u001b[43m)\u001b[49m\u001b[43m,\u001b[49m\u001b[43m \u001b[49m\u001b[43mdf\u001b[49m\u001b[43m,\u001b[49m\u001b[43m \u001b[49m\u001b[38;5;241;43m4\u001b[39;49m\u001b[43m,\u001b[49m\u001b[43m \u001b[49m\u001b[43mmean\u001b[49m\u001b[43m)\u001b[49m\u001b[38;5;241m*\u001b[39mprobSetosa\n",
      "Input \u001b[0;32mIn [231]\u001b[0m, in \u001b[0;36mGuassianNB\u001b[0;34m(X, df, d, meu)\u001b[0m\n\u001b[1;32m      6\u001b[0m             covMatrix[i][j] \u001b[38;5;241m=\u001b[39m np\u001b[38;5;241m.\u001b[39marray(df\u001b[38;5;241m.\u001b[39mcov())\u001b[38;5;241m.\u001b[39mdiagonal()[i]\n\u001b[1;32m      7\u001b[0m determinant \u001b[38;5;241m=\u001b[39m np\u001b[38;5;241m.\u001b[39mlinalg\u001b[38;5;241m.\u001b[39mdet(covMatrix)\n\u001b[0;32m----> 8\u001b[0m a \u001b[38;5;241m=\u001b[39m ((\u001b[43mX\u001b[49m\u001b[43m \u001b[49m\u001b[38;5;241;43m-\u001b[39;49m\u001b[43m \u001b[49m\u001b[43mmeu\u001b[49m)\u001b[38;5;241m.\u001b[39mtranspose())\n\u001b[1;32m      9\u001b[0m b \u001b[38;5;241m=\u001b[39m np\u001b[38;5;241m.\u001b[39mlinalg\u001b[38;5;241m.\u001b[39minv(covMatrix)\n\u001b[1;32m     10\u001b[0m c \u001b[38;5;241m=\u001b[39m X \u001b[38;5;241m-\u001b[39m meu\n",
      "\u001b[0;31mTypeError\u001b[0m: unsupported operand type(s) for -: 'float' and 'function'"
     ]
    }
   ],
   "source": [
    "def GuassianNB(X, df, d, meu):\n",
    "    covMatrix = np.zeros((d,d))\n",
    "    for i in range(d):\n",
    "        for j in range(d):\n",
    "            if i == j:\n",
    "                covMatrix[i][j] = np.array(df.cov()).diagonal()[i]\n",
    "    determinant = np.linalg.det(covMatrix)\n",
    "    a = ((X - meu).transpose())\n",
    "    b = np.linalg.inv(covMatrix)\n",
    "    c = X - meu\n",
    "    \n",
    "    first = (1 / ((2*(pi**(d))*determinant)**(1/2)))\n",
    "    second = e**((-0.5)*((a.dot(b)).dot(c)))\n",
    "    \n",
    "    return first*second\n",
    "\n",
    "GuassianNB(np.array([5.8, 4.0, 1.2, 0.2], dtype='float32'), df, 4, mean)*probSetosa"
   ]
  },
  {
   "cell_type": "code",
   "execution_count": null,
   "id": "d200d9bd",
   "metadata": {},
   "outputs": [],
   "source": [
    "setosa = np.array(df.drop(df.columns[-1], axis = 1))\n",
    "versicolor = setosa[50:]\n",
    "setosa = setosa[:50]\n",
    "virginica = versicolor[:50]\n",
    "\n",
    "# mean = versicolor.mean(axis=0)\n",
    "mean = setosa.mean(axis=0)\n",
    "# mean = virginica.mean(axis=0)\n",
    "mean"
   ]
  },
  {
   "cell_type": "code",
   "execution_count": null,
   "id": "c5fa877c",
   "metadata": {},
   "outputs": [],
   "source": [
    "probSetosa = len(setosa)/len(np.array(df))\n",
    "probVersicolor = len(versicolor)/len(np.array(df))\n",
    "probVirginia = len(virginica)/len(np.array(df))\n",
    "\n",
    "probSetosa"
   ]
  },
  {
   "cell_type": "code",
   "execution_count": null,
   "id": "c5e3c983",
   "metadata": {},
   "outputs": [],
   "source": [
    "np.array(df)"
   ]
  },
  {
   "cell_type": "markdown",
   "id": "6eaf6e66",
   "metadata": {},
   "source": [
    "### Bonus\n",
    "\n",
    "A friend of yours has just opened a pizza shop and he doesn’t want to you come there\n",
    "fearing you would eat for free. Somehow you sneak in the shop and you order an 8 inch\n",
    "pizza , your friend tells you that he doesn’t have an 8 inch pizza but he can give you two\n",
    "5 inch ones at the same price with the exact same things. As a statistician, should you\n",
    "be taking that deal? Is that beneficial for you or not? Give statistical reasoning."
   ]
  },
  {
   "cell_type": "code",
   "execution_count": 1,
   "id": "9ff6db51",
   "metadata": {},
   "outputs": [
    {
     "data": {
      "text/plain": [
       "(50.26548245743669, 39.269908169872416)"
      ]
     },
     "execution_count": 1,
     "metadata": {},
     "output_type": "execute_result"
    }
   ],
   "source": [
    "from math import pi\n",
    "\n",
    "a8 = pi*(8/2)**2\n",
    "a5 = pi*(5/2)**2\n",
    "\n",
    "a8, a5*2"
   ]
  },
  {
   "cell_type": "code",
   "execution_count": 8,
   "id": "a36f3670",
   "metadata": {},
   "outputs": [
    {
     "name": "stdout",
     "output_type": "stream",
     "text": [
      "78 \b%\n"
     ]
    }
   ],
   "source": [
    "print(int(a5*2/a8*100), '\\b%')"
   ]
  },
  {
   "cell_type": "markdown",
   "id": "f3d1131b",
   "metadata": {},
   "source": [
    "Bad deal as two 5 inch pizzas is 78% more of the 8 inch one"
   ]
  }
 ],
 "metadata": {
  "kernelspec": {
   "display_name": "Python 3 (ipykernel)",
   "language": "python",
   "name": "python3"
  },
  "language_info": {
   "codemirror_mode": {
    "name": "ipython",
    "version": 3
   },
   "file_extension": ".py",
   "mimetype": "text/x-python",
   "name": "python",
   "nbconvert_exporter": "python",
   "pygments_lexer": "ipython3",
   "version": "3.10.6"
  }
 },
 "nbformat": 4,
 "nbformat_minor": 5
}
