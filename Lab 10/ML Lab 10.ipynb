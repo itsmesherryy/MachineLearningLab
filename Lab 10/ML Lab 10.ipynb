{
 "cells": [
  {
   "cell_type": "markdown",
   "id": "a8049baa",
   "metadata": {},
   "source": [
    "#### MACHINE LEARNING\n",
    "##### LAB 10\n",
    "---\n",
    "##### NUMPY BASICS\n",
    "---"
   ]
  },
  {
   "cell_type": "code",
   "execution_count": 1,
   "id": "81b6ca96",
   "metadata": {},
   "outputs": [],
   "source": [
    "import numpy as np"
   ]
  },
  {
   "cell_type": "markdown",
   "id": "3330a797",
   "metadata": {},
   "source": [
    "**Create a numpy array of int, characters, float and find their shapes**"
   ]
  },
  {
   "cell_type": "code",
   "execution_count": 2,
   "id": "91a8d8b1",
   "metadata": {},
   "outputs": [
    {
     "name": "stdout",
     "output_type": "stream",
     "text": [
      "[5 6 7 8 9] (5,)\n"
     ]
    }
   ],
   "source": [
    "arr = np.arange(5, 10, dtype='int64')\n",
    "print(arr, arr.shape)"
   ]
  },
  {
   "cell_type": "code",
   "execution_count": 3,
   "id": "6c34432d",
   "metadata": {},
   "outputs": [
    {
     "name": "stdout",
     "output_type": "stream",
     "text": [
      "[['' '' '']\n",
      " ['' '' '']\n",
      " ['' '' b'\\xfb']] (3, 3)\n"
     ]
    }
   ],
   "source": [
    "arr = np.chararray((3, 3))\n",
    "print(arr, arr.shape)"
   ]
  },
  {
   "cell_type": "code",
   "execution_count": 4,
   "id": "c96eb411",
   "metadata": {},
   "outputs": [
    {
     "name": "stdout",
     "output_type": "stream",
     "text": [
      "[1. 2. 3. 4. 5. 6. 7. 8. 9.] (9,)\n"
     ]
    }
   ],
   "source": [
    "arr = np.arange(1, 10, dtype='float64')\n",
    "print(arr, arr.shape)"
   ]
  },
  {
   "cell_type": "markdown",
   "id": "db3fe7b8",
   "metadata": {},
   "source": [
    "**Create a zeros, empty, identity , eye and a full array**"
   ]
  },
  {
   "cell_type": "code",
   "execution_count": 5,
   "id": "195fc0fc",
   "metadata": {},
   "outputs": [
    {
     "data": {
      "text/plain": [
       "array([[0., 0., 0.],\n",
       "       [0., 0., 0.],\n",
       "       [0., 0., 0.]])"
      ]
     },
     "execution_count": 5,
     "metadata": {},
     "output_type": "execute_result"
    }
   ],
   "source": [
    "np.zeros((3, 3))"
   ]
  },
  {
   "cell_type": "code",
   "execution_count": 6,
   "id": "e4b18daa",
   "metadata": {},
   "outputs": [
    {
     "data": {
      "text/plain": [
       "array([[0., 0., 0.],\n",
       "       [0., 0., 0.],\n",
       "       [0., 0., 0.]])"
      ]
     },
     "execution_count": 6,
     "metadata": {},
     "output_type": "execute_result"
    }
   ],
   "source": [
    "np.empty((3, 3))"
   ]
  },
  {
   "cell_type": "code",
   "execution_count": 7,
   "id": "840d7037",
   "metadata": {},
   "outputs": [
    {
     "data": {
      "text/plain": [
       "array([[1., 0., 0.],\n",
       "       [0., 1., 0.],\n",
       "       [0., 0., 1.]])"
      ]
     },
     "execution_count": 7,
     "metadata": {},
     "output_type": "execute_result"
    }
   ],
   "source": [
    "np.identity(3)"
   ]
  },
  {
   "cell_type": "code",
   "execution_count": 8,
   "id": "810a633b",
   "metadata": {},
   "outputs": [
    {
     "data": {
      "text/plain": [
       "array([[0., 0., 0., 0.],\n",
       "       [1., 0., 0., 0.],\n",
       "       [0., 1., 0., 0.]])"
      ]
     },
     "execution_count": 8,
     "metadata": {},
     "output_type": "execute_result"
    }
   ],
   "source": [
    "np.eye(3, M=4, k=-1)"
   ]
  },
  {
   "cell_type": "code",
   "execution_count": 9,
   "id": "f33d666a",
   "metadata": {},
   "outputs": [
    {
     "data": {
      "text/plain": [
       "array([[69, 69, 69],\n",
       "       [69, 69, 69],\n",
       "       [69, 69, 69]])"
      ]
     },
     "execution_count": 9,
     "metadata": {},
     "output_type": "execute_result"
    }
   ],
   "source": [
    "np.full((3, 3), 69)"
   ]
  },
  {
   "cell_type": "markdown",
   "id": "244acb36",
   "metadata": {},
   "source": [
    "**Declare an array having the datatype of object, is it possible?**"
   ]
  },
  {
   "cell_type": "code",
   "execution_count": 10,
   "id": "18a4b872",
   "metadata": {},
   "outputs": [
    {
     "data": {
      "text/plain": [
       "array([4, 4, 4, 4, 4, 4], dtype=object)"
      ]
     },
     "execution_count": 10,
     "metadata": {},
     "output_type": "execute_result"
    }
   ],
   "source": [
    "np.full(6, 4, dtype='object')"
   ]
  },
  {
   "cell_type": "markdown",
   "id": "a3714e34",
   "metadata": {},
   "source": [
    "**Create an array having 5 equally spaced numbers ranging from 5 to 15**"
   ]
  },
  {
   "cell_type": "code",
   "execution_count": 11,
   "id": "5604a022",
   "metadata": {},
   "outputs": [
    {
     "data": {
      "text/plain": [
       "array([ 5. ,  7.5, 10. , 12.5, 15. ])"
      ]
     },
     "execution_count": 11,
     "metadata": {},
     "output_type": "execute_result"
    }
   ],
   "source": [
    "np.linspace(5, 15, 5)"
   ]
  },
  {
   "cell_type": "markdown",
   "id": "1c976441",
   "metadata": {},
   "source": [
    "**Create a numpy array ranging from 1 to 100**"
   ]
  },
  {
   "cell_type": "code",
   "execution_count": 12,
   "id": "2f50f221",
   "metadata": {},
   "outputs": [
    {
     "data": {
      "text/plain": [
       "array([  1,   2,   3,   4,   5,   6,   7,   8,   9,  10,  11,  12,  13,\n",
       "        14,  15,  16,  17,  18,  19,  20,  21,  22,  23,  24,  25,  26,\n",
       "        27,  28,  29,  30,  31,  32,  33,  34,  35,  36,  37,  38,  39,\n",
       "        40,  41,  42,  43,  44,  45,  46,  47,  48,  49,  50,  51,  52,\n",
       "        53,  54,  55,  56,  57,  58,  59,  60,  61,  62,  63,  64,  65,\n",
       "        66,  67,  68,  69,  70,  71,  72,  73,  74,  75,  76,  77,  78,\n",
       "        79,  80,  81,  82,  83,  84,  85,  86,  87,  88,  89,  90,  91,\n",
       "        92,  93,  94,  95,  96,  97,  98,  99, 100])"
      ]
     },
     "execution_count": 12,
     "metadata": {},
     "output_type": "execute_result"
    }
   ],
   "source": [
    "arr = np.arange(1, 101)\n",
    "arr"
   ]
  },
  {
   "cell_type": "markdown",
   "id": "014ac224",
   "metadata": {},
   "source": [
    "**Reshape the above array into (100,15). Is it possible?**"
   ]
  },
  {
   "cell_type": "code",
   "execution_count": 13,
   "id": "bd968fbf",
   "metadata": {},
   "outputs": [
    {
     "ename": "ValueError",
     "evalue": "cannot reshape array of size 100 into shape (100,15)",
     "output_type": "error",
     "traceback": [
      "\u001b[0;31m---------------------------------------------------------------------------\u001b[0m",
      "\u001b[0;31mValueError\u001b[0m                                Traceback (most recent call last)",
      "Cell \u001b[0;32mIn [13], line 1\u001b[0m\n\u001b[0;32m----> 1\u001b[0m \u001b[43marr\u001b[49m\u001b[38;5;241;43m.\u001b[39;49m\u001b[43mreshape\u001b[49m\u001b[43m(\u001b[49m\u001b[43m(\u001b[49m\u001b[38;5;241;43m100\u001b[39;49m\u001b[43m,\u001b[49m\u001b[43m \u001b[49m\u001b[38;5;241;43m15\u001b[39;49m\u001b[43m)\u001b[49m\u001b[43m)\u001b[49m\n",
      "\u001b[0;31mValueError\u001b[0m: cannot reshape array of size 100 into shape (100,15)"
     ]
    }
   ],
   "source": [
    "arr.reshape((100, 15)) # not possible"
   ]
  },
  {
   "cell_type": "markdown",
   "id": "9492e730",
   "metadata": {},
   "source": [
    "**Reshape the array into (100,10)**"
   ]
  },
  {
   "cell_type": "code",
   "execution_count": 14,
   "id": "0cbb5584",
   "metadata": {},
   "outputs": [
    {
     "ename": "ValueError",
     "evalue": "cannot reshape array of size 100 into shape (100,10)",
     "output_type": "error",
     "traceback": [
      "\u001b[0;31m---------------------------------------------------------------------------\u001b[0m",
      "\u001b[0;31mValueError\u001b[0m                                Traceback (most recent call last)",
      "Cell \u001b[0;32mIn [14], line 1\u001b[0m\n\u001b[0;32m----> 1\u001b[0m \u001b[43marr\u001b[49m\u001b[38;5;241;43m.\u001b[39;49m\u001b[43mreshape\u001b[49m\u001b[43m(\u001b[49m\u001b[43m(\u001b[49m\u001b[38;5;241;43m100\u001b[39;49m\u001b[43m,\u001b[49m\u001b[43m \u001b[49m\u001b[38;5;241;43m10\u001b[39;49m\u001b[43m)\u001b[49m\u001b[43m)\u001b[49m\n",
      "\u001b[0;31mValueError\u001b[0m: cannot reshape array of size 100 into shape (100,10)"
     ]
    }
   ],
   "source": [
    "arr.reshape((100, 10)) # not possible"
   ]
  },
  {
   "cell_type": "markdown",
   "id": "dab28981",
   "metadata": {},
   "source": [
    "**Flatten and ravel the reshaped array. What is the difference?**"
   ]
  },
  {
   "cell_type": "code",
   "execution_count": 15,
   "id": "2679ab88",
   "metadata": {
    "scrolled": true
   },
   "outputs": [
    {
     "data": {
      "text/plain": [
       "array([[  1,   2],\n",
       "       [  3,   4],\n",
       "       [  5,   6],\n",
       "       [  7,   8],\n",
       "       [  9,  10],\n",
       "       [ 11,  12],\n",
       "       [ 13,  14],\n",
       "       [ 15,  16],\n",
       "       [ 17,  18],\n",
       "       [ 19,  20],\n",
       "       [ 21,  22],\n",
       "       [ 23,  24],\n",
       "       [ 25,  26],\n",
       "       [ 27,  28],\n",
       "       [ 29,  30],\n",
       "       [ 31,  32],\n",
       "       [ 33,  34],\n",
       "       [ 35,  36],\n",
       "       [ 37,  38],\n",
       "       [ 39,  40],\n",
       "       [ 41,  42],\n",
       "       [ 43,  44],\n",
       "       [ 45,  46],\n",
       "       [ 47,  48],\n",
       "       [ 49,  50],\n",
       "       [ 51,  52],\n",
       "       [ 53,  54],\n",
       "       [ 55,  56],\n",
       "       [ 57,  58],\n",
       "       [ 59,  60],\n",
       "       [ 61,  62],\n",
       "       [ 63,  64],\n",
       "       [ 65,  66],\n",
       "       [ 67,  68],\n",
       "       [ 69,  70],\n",
       "       [ 71,  72],\n",
       "       [ 73,  74],\n",
       "       [ 75,  76],\n",
       "       [ 77,  78],\n",
       "       [ 79,  80],\n",
       "       [ 81,  82],\n",
       "       [ 83,  84],\n",
       "       [ 85,  86],\n",
       "       [ 87,  88],\n",
       "       [ 89,  90],\n",
       "       [ 91,  92],\n",
       "       [ 93,  94],\n",
       "       [ 95,  96],\n",
       "       [ 97,  98],\n",
       "       [ 99, 100]])"
      ]
     },
     "execution_count": 15,
     "metadata": {},
     "output_type": "execute_result"
    }
   ],
   "source": [
    "arr = arr.reshape((50, -1))\n",
    "arr"
   ]
  },
  {
   "cell_type": "code",
   "execution_count": 16,
   "id": "170b92b0",
   "metadata": {},
   "outputs": [
    {
     "data": {
      "text/plain": [
       "array([  1,   3,   5,   7,   9,  11,  13,  15,  17,  19,  21,  23,  25,\n",
       "        27,  29,  31,  33,  35,  37,  39,  41,  43,  45,  47,  49,  51,\n",
       "        53,  55,  57,  59,  61,  63,  65,  67,  69,  71,  73,  75,  77,\n",
       "        79,  81,  83,  85,  87,  89,  91,  93,  95,  97,  99,   2,   4,\n",
       "         6,   8,  10,  12,  14,  16,  18,  20,  22,  24,  26,  28,  30,\n",
       "        32,  34,  36,  38,  40,  42,  44,  46,  48,  50,  52,  54,  56,\n",
       "        58,  60,  62,  64,  66,  68,  70,  72,  74,  76,  78,  80,  82,\n",
       "        84,  86,  88,  90,  92,  94,  96,  98, 100])"
      ]
     },
     "execution_count": 16,
     "metadata": {},
     "output_type": "execute_result"
    }
   ],
   "source": [
    "arr.flatten('F')"
   ]
  },
  {
   "cell_type": "code",
   "execution_count": 17,
   "id": "f7a8caaa",
   "metadata": {},
   "outputs": [
    {
     "data": {
      "text/plain": [
       "array([  1,   3,   5,   7,   9,  11,  13,  15,  17,  19,  21,  23,  25,\n",
       "        27,  29,  31,  33,  35,  37,  39,  41,  43,  45,  47,  49,  51,\n",
       "        53,  55,  57,  59,  61,  63,  65,  67,  69,  71,  73,  75,  77,\n",
       "        79,  81,  83,  85,  87,  89,  91,  93,  95,  97,  99,   2,   4,\n",
       "         6,   8,  10,  12,  14,  16,  18,  20,  22,  24,  26,  28,  30,\n",
       "        32,  34,  36,  38,  40,  42,  44,  46,  48,  50,  52,  54,  56,\n",
       "        58,  60,  62,  64,  66,  68,  70,  72,  74,  76,  78,  80,  82,\n",
       "        84,  86,  88,  90,  92,  94,  96,  98, 100])"
      ]
     },
     "execution_count": 17,
     "metadata": {},
     "output_type": "execute_result"
    }
   ],
   "source": [
    "arr.ravel('F')"
   ]
  },
  {
   "cell_type": "markdown",
   "id": "a12478ad",
   "metadata": {},
   "source": [
    "np.flatten and np.ravel works in exact same ways"
   ]
  },
  {
   "cell_type": "markdown",
   "id": "21405904",
   "metadata": {},
   "source": [
    "**Take an array [[1 2 3] [4 5 6] [7 8 9]]. Sum it along 0 and 1 axis**"
   ]
  },
  {
   "cell_type": "code",
   "execution_count": 18,
   "id": "5f330098",
   "metadata": {},
   "outputs": [
    {
     "data": {
      "text/plain": [
       "(array([12, 15, 18]), array([ 6, 15, 24]))"
      ]
     },
     "execution_count": 18,
     "metadata": {},
     "output_type": "execute_result"
    }
   ],
   "source": [
    "arr = np.array([[1, 2, 3], [4, 5, 6], [7, 8, 9]])\n",
    "arr.sum(axis=0), arr.sum(axis=1)"
   ]
  },
  {
   "cell_type": "markdown",
   "id": "3caa6b28",
   "metadata": {},
   "source": [
    "**Find the number of bytes used by your array**"
   ]
  },
  {
   "cell_type": "code",
   "execution_count": 19,
   "id": "75907be3",
   "metadata": {},
   "outputs": [
    {
     "data": {
      "text/plain": [
       "(72, 8, 9)"
      ]
     },
     "execution_count": 19,
     "metadata": {},
     "output_type": "execute_result"
    }
   ],
   "source": [
    "arr.nbytes, arr.itemsize, arr.size"
   ]
  },
  {
   "cell_type": "markdown",
   "id": "d79f8883",
   "metadata": {},
   "source": [
    "**Find the maximum and minimum values in a 1D array**"
   ]
  },
  {
   "cell_type": "code",
   "execution_count": 20,
   "id": "492109c5",
   "metadata": {},
   "outputs": [
    {
     "data": {
      "text/plain": [
       "array([ 5,  6,  7,  8,  9, 10, 11, 12, 13, 14])"
      ]
     },
     "execution_count": 20,
     "metadata": {},
     "output_type": "execute_result"
    }
   ],
   "source": [
    "arr = np.arange(5, 15)\n",
    "arr"
   ]
  },
  {
   "cell_type": "code",
   "execution_count": 21,
   "id": "cb902a78",
   "metadata": {},
   "outputs": [
    {
     "data": {
      "text/plain": [
       "14"
      ]
     },
     "execution_count": 21,
     "metadata": {},
     "output_type": "execute_result"
    }
   ],
   "source": [
    "arr.max()"
   ]
  },
  {
   "cell_type": "markdown",
   "id": "61d9bbe9",
   "metadata": {},
   "source": [
    "**Find the maximum and minimum values in 2D array**"
   ]
  },
  {
   "cell_type": "code",
   "execution_count": 22,
   "id": "ec74b058",
   "metadata": {},
   "outputs": [
    {
     "data": {
      "text/plain": [
       "array([[ 5,  6],\n",
       "       [ 7,  8],\n",
       "       [ 9, 10],\n",
       "       [11, 12],\n",
       "       [13, 14]])"
      ]
     },
     "execution_count": 22,
     "metadata": {},
     "output_type": "execute_result"
    }
   ],
   "source": [
    "arr = arr.reshape((5, -1))\n",
    "arr"
   ]
  },
  {
   "cell_type": "code",
   "execution_count": 23,
   "id": "bb48f274",
   "metadata": {},
   "outputs": [
    {
     "data": {
      "text/plain": [
       "14"
      ]
     },
     "execution_count": 23,
     "metadata": {},
     "output_type": "execute_result"
    }
   ],
   "source": [
    "arr.max()"
   ]
  },
  {
   "cell_type": "markdown",
   "id": "fb1ad93a",
   "metadata": {},
   "source": [
    "**Sort an array**"
   ]
  },
  {
   "cell_type": "code",
   "execution_count": 24,
   "id": "1a1a412d",
   "metadata": {},
   "outputs": [
    {
     "data": {
      "text/plain": [
       "array([45, 56, 48, 36, 20])"
      ]
     },
     "execution_count": 24,
     "metadata": {},
     "output_type": "execute_result"
    }
   ],
   "source": [
    "arr = np.random.randint(0, 100, 5)\n",
    "arr"
   ]
  },
  {
   "cell_type": "code",
   "execution_count": 25,
   "id": "fc7d50a9",
   "metadata": {},
   "outputs": [
    {
     "data": {
      "text/plain": [
       "array([20, 36, 45, 48, 56])"
      ]
     },
     "execution_count": 25,
     "metadata": {},
     "output_type": "execute_result"
    }
   ],
   "source": [
    "np.sort(arr)"
   ]
  },
  {
   "cell_type": "markdown",
   "id": "4a8f3cca",
   "metadata": {},
   "source": [
    "**Is \\* and mul the same as dot product for numpy arrays and matrices? Check**"
   ]
  },
  {
   "cell_type": "code",
   "execution_count": 26,
   "id": "18508b4a",
   "metadata": {},
   "outputs": [
    {
     "data": {
      "text/plain": [
       "(array([[18, 49, 85],\n",
       "        [16, 15, 64],\n",
       "        [90, 39,  6]]),\n",
       " array([[71, 12, 10],\n",
       "        [14, 23, 96],\n",
       "        [12, 51, 74]]))"
      ]
     },
     "execution_count": 26,
     "metadata": {},
     "output_type": "execute_result"
    }
   ],
   "source": [
    "a = np.random.randint(0, 100, (3, 3))\n",
    "b = np.random.randint(0, 100, (3, 3))\n",
    "\n",
    "a, b"
   ]
  },
  {
   "cell_type": "code",
   "execution_count": 27,
   "id": "9b54bbad",
   "metadata": {},
   "outputs": [
    {
     "data": {
      "text/plain": [
       "array([[1278,  588,  850],\n",
       "       [ 224,  345, 6144],\n",
       "       [1080, 1989,  444]])"
      ]
     },
     "execution_count": 27,
     "metadata": {},
     "output_type": "execute_result"
    }
   ],
   "source": [
    "a*b"
   ]
  },
  {
   "cell_type": "code",
   "execution_count": 28,
   "id": "35c5fb11",
   "metadata": {},
   "outputs": [
    {
     "data": {
      "text/plain": [
       "array([[1278,  588,  850],\n",
       "       [ 224,  345, 6144],\n",
       "       [1080, 1989,  444]])"
      ]
     },
     "execution_count": 28,
     "metadata": {},
     "output_type": "execute_result"
    }
   ],
   "source": [
    "np.multiply(a, b)"
   ]
  },
  {
   "cell_type": "code",
   "execution_count": 29,
   "id": "8ff97170",
   "metadata": {},
   "outputs": [
    {
     "data": {
      "text/plain": [
       "array([[ 2984,  5678, 11174],\n",
       "       [ 2114,  3801,  6336],\n",
       "       [ 7008,  2283,  5088]])"
      ]
     },
     "execution_count": 29,
     "metadata": {},
     "output_type": "execute_result"
    }
   ],
   "source": [
    "np.dot(a, b)"
   ]
  },
  {
   "cell_type": "markdown",
   "id": "3f7bebed",
   "metadata": {},
   "source": [
    "np.dot is different from * and mul"
   ]
  },
  {
   "cell_type": "markdown",
   "id": "b7fb6eca",
   "metadata": {},
   "source": [
    "**Take the square root and norm of an array**"
   ]
  },
  {
   "cell_type": "code",
   "execution_count": 30,
   "id": "01fb139f",
   "metadata": {},
   "outputs": [
    {
     "data": {
      "text/plain": [
       "(array([[18, 49, 85],\n",
       "        [16, 15, 64],\n",
       "        [90, 39,  6]]),\n",
       " array([[4.24264069, 7.        , 9.21954446],\n",
       "        [4.        , 3.87298335, 8.        ],\n",
       "        [9.48683298, 6.244998  , 2.44948974]]))"
      ]
     },
     "execution_count": 30,
     "metadata": {},
     "output_type": "execute_result"
    }
   ],
   "source": [
    "a, np.sqrt(a)"
   ]
  },
  {
   "cell_type": "code",
   "execution_count": 31,
   "id": "cbbf6bd1",
   "metadata": {},
   "outputs": [],
   "source": [
    "y = [[4, 4], \n",
    "     [3, 3]]"
   ]
  },
  {
   "cell_type": "code",
   "execution_count": 32,
   "id": "31ece565",
   "metadata": {},
   "outputs": [
    {
     "data": {
      "text/plain": [
       "array([5., 5.])"
      ]
     },
     "execution_count": 32,
     "metadata": {},
     "output_type": "execute_result"
    }
   ],
   "source": [
    "np.linalg.norm(y, axis=0)"
   ]
  },
  {
   "cell_type": "markdown",
   "id": "8bd2cbbe",
   "metadata": {},
   "source": [
    "Eucledian Distance along axis"
   ]
  },
  {
   "cell_type": "markdown",
   "id": "97268b08",
   "metadata": {},
   "source": [
    "**Find the std, non-zero, zero values and mean of an array**"
   ]
  },
  {
   "cell_type": "code",
   "execution_count": 33,
   "id": "4c8824f3",
   "metadata": {},
   "outputs": [
    {
     "data": {
      "text/plain": [
       "array([7, 0, 0, 1, 8, 3, 8, 2, 0, 5])"
      ]
     },
     "execution_count": 33,
     "metadata": {},
     "output_type": "execute_result"
    }
   ],
   "source": [
    "arr = np.random.randint(0, 10, 10)\n",
    "arr"
   ]
  },
  {
   "cell_type": "code",
   "execution_count": 34,
   "id": "f2a7ab8a",
   "metadata": {},
   "outputs": [
    {
     "data": {
      "text/plain": [
       "3.168595903550972"
      ]
     },
     "execution_count": 34,
     "metadata": {},
     "output_type": "execute_result"
    }
   ],
   "source": [
    "np.std(arr)"
   ]
  },
  {
   "cell_type": "code",
   "execution_count": 35,
   "id": "1d7f0f53",
   "metadata": {},
   "outputs": [
    {
     "data": {
      "text/plain": [
       "(array([0, 3, 4, 5, 6, 7, 9]),)"
      ]
     },
     "execution_count": 35,
     "metadata": {},
     "output_type": "execute_result"
    }
   ],
   "source": [
    "indexes = arr.nonzero()\n",
    "indexes"
   ]
  },
  {
   "cell_type": "code",
   "execution_count": 36,
   "id": "8c8c2d76",
   "metadata": {},
   "outputs": [
    {
     "data": {
      "text/plain": [
       "array([7, 1, 8, 3, 8, 2, 5])"
      ]
     },
     "execution_count": 36,
     "metadata": {},
     "output_type": "execute_result"
    }
   ],
   "source": [
    "arr[indexes]"
   ]
  },
  {
   "cell_type": "code",
   "execution_count": 37,
   "id": "2d3377b5",
   "metadata": {},
   "outputs": [
    {
     "name": "stdout",
     "output_type": "stream",
     "text": [
      "(array([1, 2, 8]),) [0 0 0]\n"
     ]
    }
   ],
   "source": [
    "print(np.where(arr == 0), arr[np.where(arr == 0)])"
   ]
  },
  {
   "cell_type": "markdown",
   "id": "d3a56518",
   "metadata": {},
   "source": [
    "**Convert some angles to radians and vice versa**"
   ]
  },
  {
   "cell_type": "code",
   "execution_count": 38,
   "id": "87f530a0",
   "metadata": {},
   "outputs": [],
   "source": [
    "import math"
   ]
  },
  {
   "cell_type": "code",
   "execution_count": 39,
   "id": "c1efa680",
   "metadata": {},
   "outputs": [
    {
     "name": "stdout",
     "output_type": "stream",
     "text": [
      "[3.14159265 6.28318531] [180. 360.]\n"
     ]
    }
   ],
   "source": [
    "print(np.deg2rad([180, 360]), np.rad2deg([math.pi, 2*math.pi]))"
   ]
  },
  {
   "cell_type": "markdown",
   "id": "2769967d",
   "metadata": {},
   "source": [
    "**Save and load some of your arrays**"
   ]
  },
  {
   "cell_type": "code",
   "execution_count": 40,
   "id": "34674096",
   "metadata": {},
   "outputs": [
    {
     "data": {
      "text/plain": [
       "array([7, 0, 0, 1, 8, 3, 8, 2, 0, 5])"
      ]
     },
     "execution_count": 40,
     "metadata": {},
     "output_type": "execute_result"
    }
   ],
   "source": [
    "arr"
   ]
  },
  {
   "cell_type": "code",
   "execution_count": 41,
   "id": "89bb6b08",
   "metadata": {},
   "outputs": [],
   "source": [
    "np.save('arr.npy', arr)"
   ]
  },
  {
   "cell_type": "code",
   "execution_count": 42,
   "id": "c366bc3d",
   "metadata": {},
   "outputs": [
    {
     "data": {
      "text/plain": [
       "array([7, 0, 0, 1, 8, 3, 8, 2, 0, 5])"
      ]
     },
     "execution_count": 42,
     "metadata": {},
     "output_type": "execute_result"
    }
   ],
   "source": [
    "np.load('arr.npy')"
   ]
  },
  {
   "cell_type": "markdown",
   "id": "928adee0",
   "metadata": {},
   "source": [
    "**Calculate the mean, std, var, max, min, of an array with shape (3,3,12,3) containing floats drawn from a normal distribution with mean 21 and sigma 4.5. see the np.random.normal**"
   ]
  },
  {
   "cell_type": "code",
   "execution_count": 43,
   "id": "809c0fb4",
   "metadata": {
    "scrolled": true
   },
   "outputs": [
    {
     "data": {
      "text/plain": [
       "array([[[[22.48504307, 20.37323129, 24.93548389],\n",
       "         [ 9.41423231, 20.34988179, 18.13990954],\n",
       "         [19.64113119, 27.17678949, 25.71322979],\n",
       "         [18.09658761, 24.09963006, 14.1185587 ],\n",
       "         [17.6653368 , 26.48952622, 20.17742685],\n",
       "         [25.53290076, 32.2509569 , 24.68714777],\n",
       "         [20.14445399, 22.73773867, 21.49663499],\n",
       "         [20.07816208, 19.80020558, 20.37923595],\n",
       "         [16.45164327, 21.24958901, 15.49368752],\n",
       "         [20.94920605, 22.21894833, 16.65418654],\n",
       "         [17.66353139, 23.75520271, 14.32452712],\n",
       "         [26.90572269, 23.98575969, 23.54939005]],\n",
       "\n",
       "        [[20.0874291 , 19.18852241, 23.11430066],\n",
       "         [23.00117032, 23.35316649, 21.0256452 ],\n",
       "         [17.84333031, 16.08184762, 24.59061328],\n",
       "         [18.92443675, 22.1131451 , 19.60950785],\n",
       "         [25.09084971, 25.59201462, 17.24249728],\n",
       "         [25.40960167,  9.35756922, 27.14007287],\n",
       "         [19.69667135, 19.27274436, 22.97424603],\n",
       "         [17.32042315, 29.07150751, 22.31321115],\n",
       "         [18.41439513, 25.69568508, 18.49843984],\n",
       "         [18.42916209, 28.86554179, 19.71790175],\n",
       "         [29.11315485, 19.43045794, 22.92847983],\n",
       "         [20.40374627, 21.11826219, 21.82619953]],\n",
       "\n",
       "        [[16.97314429, 21.97262519, 16.86985754],\n",
       "         [21.88263529, 14.89588121, 21.9231985 ],\n",
       "         [16.71203829, 16.54555705, 22.38326293],\n",
       "         [16.1656233 , 23.66312789, 23.37252739],\n",
       "         [16.88682155, 18.65890122, 15.93319688],\n",
       "         [19.77328982, 16.53728623, 18.08964064],\n",
       "         [23.13672839, 26.21201531, 20.62165902],\n",
       "         [16.06334453, 18.30726311, 17.28438317],\n",
       "         [16.64956978, 22.12588397, 28.1576191 ],\n",
       "         [26.33152488, 25.89845515, 21.15530732],\n",
       "         [18.661664  , 18.94536522, 22.81206233],\n",
       "         [17.30704891, 19.80355737, 11.71880777]]],\n",
       "\n",
       "\n",
       "       [[[18.28559962, 18.37001277, 16.18126869],\n",
       "         [22.70127437, 27.14932107, 26.91239966],\n",
       "         [17.17487301, 22.96942286, 27.31386486],\n",
       "         [26.42790465, 26.40145453, 23.17375052],\n",
       "         [24.71661128, 17.44851878, 21.98221458],\n",
       "         [21.81555475, 20.55194548, 20.43365744],\n",
       "         [21.01733468, 22.72547103, 21.87021924],\n",
       "         [20.46489026, 23.29545314, 26.83346652],\n",
       "         [22.4080137 , 28.4807054 , 12.40985791],\n",
       "         [23.77058029, 14.93989425, 27.28022772],\n",
       "         [24.89822357,  6.11734418, 13.06713067],\n",
       "         [19.96311632, 22.97887594, 15.68163027]],\n",
       "\n",
       "        [[23.25234352, 11.66386194, 19.55883825],\n",
       "         [22.31110812, 21.06033689, 19.82949133],\n",
       "         [24.69303858, 19.54599676, 13.51533325],\n",
       "         [29.58599403, 23.58940079, 17.25901512],\n",
       "         [25.2642685 , 25.32455264, 22.24170423],\n",
       "         [16.27570242, 25.19287893, 15.06880787],\n",
       "         [16.26721243, 17.50248016, 17.69512405],\n",
       "         [15.09811238, 22.01383724, 22.64078937],\n",
       "         [23.01225925, 23.0303106 , 22.22748525],\n",
       "         [16.59428594, 29.88015324, 22.74385372],\n",
       "         [20.35138551, 25.23714635, 21.83387074],\n",
       "         [18.91059315, 19.4018114 , 17.73373717]],\n",
       "\n",
       "        [[19.34056297, 12.6254553 , 14.59855331],\n",
       "         [22.63438148, 21.4616401 , 22.52194918],\n",
       "         [29.96507283, 21.91398775, 25.80792059],\n",
       "         [19.12860818, 21.31602324, 23.10840598],\n",
       "         [21.01753922, 25.45445104, 26.08490296],\n",
       "         [19.6697878 , 22.55396085, 13.53043163],\n",
       "         [23.30552715, 14.83530733, 10.45488477],\n",
       "         [24.53218343, 23.79152364, 20.78135369],\n",
       "         [18.99345666, 19.30074193, 22.1860506 ],\n",
       "         [36.51579504, 15.7066947 , 25.14859516],\n",
       "         [19.5582587 , 15.96778362, 27.23013526],\n",
       "         [22.58916498, 24.87654416, 17.40677019]]],\n",
       "\n",
       "\n",
       "       [[[20.39498278, 13.58650186, 18.69477544],\n",
       "         [ 9.4629707 , 18.39980195, 22.84584808],\n",
       "         [17.28578067, 18.12824073, 29.04456268],\n",
       "         [17.07332533, 20.23857587, 14.73944656],\n",
       "         [19.44788848, 28.19021597, 21.02369335],\n",
       "         [17.84242226, 23.89010261, 27.20494051],\n",
       "         [21.67065577, 15.46448022, 23.72235601],\n",
       "         [27.6588273 , 22.38466815, 23.84905269],\n",
       "         [24.46616967, 13.75742313, 22.41325639],\n",
       "         [20.43228445, 15.78570166, 21.16669267],\n",
       "         [13.39733262, 22.85357993, 19.35880937],\n",
       "         [20.97565032, 20.349247  , 21.51015611]],\n",
       "\n",
       "        [[ 9.88517084, 20.34356065, 17.67366051],\n",
       "         [17.29739919, 24.76485318, 26.51081762],\n",
       "         [16.13111218, 18.64920782, 17.15111793],\n",
       "         [26.52210667, 16.33488995, 30.41130693],\n",
       "         [18.57694058, 19.74666225, 20.51143548],\n",
       "         [19.09429208, 13.71889739, 19.29741447],\n",
       "         [25.95224991, 14.86433166, 19.44477211],\n",
       "         [19.75858979, 23.81995816, 17.59153036],\n",
       "         [21.05867395, 24.44026612, 17.30218677],\n",
       "         [21.55747317, 16.60245655, 18.77674502],\n",
       "         [14.99144975, 20.71265926, 19.64990783],\n",
       "         [26.07413134, 23.25418842, 29.87110721]],\n",
       "\n",
       "        [[25.23979995, 24.01779905, 20.59525871],\n",
       "         [29.2420406 , 22.67643608, 25.3050139 ],\n",
       "         [20.0162389 , 30.07760658, 20.84075494],\n",
       "         [15.72277037, 26.10527107, 24.65657842],\n",
       "         [21.02656416, 30.14455698, 19.94888303],\n",
       "         [24.78183779,  6.52463366, 21.27075657],\n",
       "         [22.8163718 , 13.58468548, 23.63137556],\n",
       "         [27.86302849, 15.28281423, 24.97127934],\n",
       "         [27.74466816, 26.17910198, 27.70127018],\n",
       "         [14.82116569, 20.33661032, 23.29896898],\n",
       "         [16.95565809, 25.73924269, 16.96702922],\n",
       "         [17.99232256, 24.93268785, 19.43627589]]]])"
      ]
     },
     "execution_count": 43,
     "metadata": {},
     "output_type": "execute_result"
    }
   ],
   "source": [
    "arr = np.random.normal(21, 4.5, (3,3,12,3))\n",
    "arr"
   ]
  },
  {
   "cell_type": "code",
   "execution_count": 44,
   "id": "e774d942",
   "metadata": {},
   "outputs": [
    {
     "data": {
      "text/plain": [
       "array([[[19.5856626 , 23.70728831, 19.97245156],\n",
       "        [21.14453089, 21.59503869, 21.74842627],\n",
       "        [18.87861942, 20.29715991, 20.02679355]],\n",
       "\n",
       "       [[21.97033137, 20.95236829, 21.09497401],\n",
       "        [20.96802532, 21.95356391, 19.36233753],\n",
       "        [23.10419487, 19.98367614, 20.73832944]],\n",
       "\n",
       "       [[19.17569086, 19.41904492, 22.13113249],\n",
       "        [19.74163245, 19.77099428, 21.18266685],\n",
       "        [22.01853888, 22.13345383, 22.38528706]]])"
      ]
     },
     "execution_count": 44,
     "metadata": {},
     "output_type": "execute_result"
    }
   ],
   "source": [
    "np.mean(arr, axis = 2)"
   ]
  },
  {
   "cell_type": "code",
   "execution_count": 45,
   "id": "7d07010f",
   "metadata": {},
   "outputs": [
    {
     "data": {
      "text/plain": [
       "array([[[4.30751393, 3.41388356, 4.03874186],\n",
       "        [3.53258963, 5.33195085, 2.61915868],\n",
       "        [3.14332219, 3.53483542, 4.11155355]],\n",
       "\n",
       "       [[2.64184907, 5.89430128, 5.34772426],\n",
       "        [4.28289202, 4.4544381 , 2.99340671],\n",
       "        [5.0423181 , 4.06403646, 5.27000998]],\n",
       "\n",
       "       [[4.56483779, 4.24920555, 3.60885742],\n",
       "        [4.74498917, 3.65479933, 4.66127396],\n",
       "        [4.79626377, 6.77611962, 2.91319358]]])"
      ]
     },
     "execution_count": 45,
     "metadata": {},
     "output_type": "execute_result"
    }
   ],
   "source": [
    "np.std(arr, axis=2)"
   ]
  },
  {
   "cell_type": "code",
   "execution_count": 46,
   "id": "07056e73",
   "metadata": {},
   "outputs": [
    {
     "data": {
      "text/plain": [
       "array([[[18.55467622, 11.65460098, 16.31143582],\n",
       "        [12.47918953, 28.42969987,  6.85999218],\n",
       "        [ 9.88047439, 12.49506147, 16.90487263]],\n",
       "\n",
       "       [[ 6.9793665 , 34.74278756, 28.5981548 ],\n",
       "        [18.34316409, 19.8420188 ,  8.96048374],\n",
       "        [25.42497184, 16.51639235, 27.77300519]],\n",
       "\n",
       "       [[20.83774408, 18.05574783, 13.02385188],\n",
       "        [22.51492218, 13.35755811, 21.72747497],\n",
       "        [23.00414618, 45.91579713,  8.48669681]]])"
      ]
     },
     "execution_count": 46,
     "metadata": {},
     "output_type": "execute_result"
    }
   ],
   "source": [
    "np.var(arr, axis=2)"
   ]
  },
  {
   "cell_type": "code",
   "execution_count": 47,
   "id": "436325d0",
   "metadata": {},
   "outputs": [
    {
     "data": {
      "text/plain": [
       "array([[[26.90572269, 32.2509569 , 25.71322979],\n",
       "        [29.11315485, 29.07150751, 27.14007287],\n",
       "        [26.33152488, 26.21201531, 28.1576191 ]],\n",
       "\n",
       "       [[26.42790465, 28.4807054 , 27.31386486],\n",
       "        [29.58599403, 29.88015324, 22.74385372],\n",
       "        [36.51579504, 25.45445104, 27.23013526]],\n",
       "\n",
       "       [[27.6588273 , 28.19021597, 29.04456268],\n",
       "        [26.52210667, 24.76485318, 30.41130693],\n",
       "        [29.2420406 , 30.14455698, 27.70127018]]])"
      ]
     },
     "execution_count": 47,
     "metadata": {},
     "output_type": "execute_result"
    }
   ],
   "source": [
    "np.max(arr, axis=2)"
   ]
  },
  {
   "cell_type": "code",
   "execution_count": 48,
   "id": "0966e319",
   "metadata": {},
   "outputs": [
    {
     "data": {
      "text/plain": [
       "array([[[ 9.41423231, 19.80020558, 14.1185587 ],\n",
       "        [17.32042315,  9.35756922, 17.24249728],\n",
       "        [16.06334453, 14.89588121, 11.71880777]],\n",
       "\n",
       "       [[17.17487301,  6.11734418, 12.40985791],\n",
       "        [15.09811238, 11.66386194, 13.51533325],\n",
       "        [18.99345666, 12.6254553 , 10.45488477]],\n",
       "\n",
       "       [[ 9.4629707 , 13.58650186, 14.73944656],\n",
       "        [ 9.88517084, 13.71889739, 17.15111793],\n",
       "        [14.82116569,  6.52463366, 16.96702922]]])"
      ]
     },
     "execution_count": 48,
     "metadata": {},
     "output_type": "execute_result"
    }
   ],
   "source": [
    "np.min(arr, axis=2)"
   ]
  }
 ],
 "metadata": {
  "kernelspec": {
   "display_name": "Python 3 (ipykernel)",
   "language": "python",
   "name": "python3"
  },
  "language_info": {
   "codemirror_mode": {
    "name": "ipython",
    "version": 3
   },
   "file_extension": ".py",
   "mimetype": "text/x-python",
   "name": "python",
   "nbconvert_exporter": "python",
   "pygments_lexer": "ipython3",
   "version": "3.10.6"
  }
 },
 "nbformat": 4,
 "nbformat_minor": 5
}
